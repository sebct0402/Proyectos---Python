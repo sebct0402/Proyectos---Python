{
  "nbformat": 4,
  "nbformat_minor": 0,
  "metadata": {
    "colab": {
      "provenance": [],
      "include_colab_link": true
    },
    "kernelspec": {
      "name": "python3",
      "display_name": "Python 3"
    },
    "language_info": {
      "name": "python"
    }
  },
  "cells": [
    {
      "cell_type": "markdown",
      "metadata": {
        "id": "view-in-github",
        "colab_type": "text"
      },
      "source": [
        "<a href=\"https://colab.research.google.com/github/sebct0402/Proyectos---Python/blob/main/An%C3%A1lisis_Exploratorio_Datos_Admitidos_Icesi.ipynb\" target=\"_parent\"><img src=\"https://colab.research.google.com/assets/colab-badge.svg\" alt=\"Open In Colab\"/></a>"
      ]
    },
    {
      "cell_type": "markdown",
      "source": [
        "#Análsis Exploratorio de datos - Proyecto de Clasifición para Estudiantes y Facultades de la Universidad Icesi\n",
        "\n",
        "Grupo conformado por:\n",
        "- Carlos Tafur.\n",
        "- Miguel Jaramillo.\n",
        "- Juan Yustes.\n",
        "- Sebastián Correa."
      ],
      "metadata": {
        "id": "xgQbbYACdm4F"
      }
    },
    {
      "cell_type": "markdown",
      "source": [
        "##Carga de datos y librerías a usar"
      ],
      "metadata": {
        "id": "PWkKhXbcv4aP"
      }
    },
    {
      "cell_type": "code",
      "execution_count": null,
      "metadata": {
        "id": "bvL7xbEvEtlv",
        "colab": {
          "base_uri": "https://localhost:8080/"
        },
        "outputId": "1838b11f-94ee-4b24-bd92-d695077e5729"
      },
      "outputs": [
        {
          "output_type": "stream",
          "name": "stdout",
          "text": [
            "Drive already mounted at /content/drive; to attempt to forcibly remount, call drive.mount(\"/content/drive\", force_remount=True).\n"
          ]
        }
      ],
      "source": [
        "#Aquí se cargan todas las librerías necesarias.\n",
        "import pandas as pd\n",
        "import numpy as np\n",
        "import matplotlib.pyplot as plt\n",
        "import seaborn as sns\n",
        "from google.colab import drive\n",
        "drive.mount('/content/drive')"
      ]
    },
    {
      "cell_type": "markdown",
      "source": [
        "Ahora carguemos el dataframe en una variable. Inicialmente los datos fueron decodificados en \"latin-1\" pues mediante UFT-8 la carga no se ejecutó."
      ],
      "metadata": {
        "id": "G9Qk3Q93wVKN"
      }
    },
    {
      "cell_type": "code",
      "source": [
        "df = pd.read_csv(\n",
        "    '/content/Admitidos_2018-2025_anonimizado.csv',\n",
        "    sep=';',\n",
        "    encoding='latin-1',  #Se carga en latin-1 puesto que el formato en UFT-8 nos genera un error de carga\n",
        "    low_memory=False)"
      ],
      "metadata": {
        "id": "CbX5gEmignvc"
      },
      "execution_count": null,
      "outputs": []
    },
    {
      "cell_type": "markdown",
      "source": [
        "##Limpieza inicial de Datos."
      ],
      "metadata": {
        "id": "RwkS8SS-wjcX"
      }
    },
    {
      "cell_type": "markdown",
      "source": [
        "Veamos nuestro conjunto de datos cargados."
      ],
      "metadata": {
        "id": "a6jcrqjLyQpV"
      }
    },
    {
      "cell_type": "code",
      "source": [
        "df.head()"
      ],
      "metadata": {
        "colab": {
          "base_uri": "https://localhost:8080/",
          "height": 377
        },
        "id": "WbXludcSf4I7",
        "outputId": "197f1869-da85-4e6c-94be-152c72eff427"
      },
      "execution_count": null,
      "outputs": [
        {
          "output_type": "execute_result",
          "data": {
            "text/plain": [
              "   Periodo AdmisiÃ³n Fecha InscripciÃ³n Fecha solicitud completada Programa  \\\n",
              "0           201720.0         26/09/2017                        NaN      ADD   \n",
              "1           201810.0         21/11/2017                 21/11/2017      ADD   \n",
              "2           201810.0         21/10/2017                 21/10/2017      ADD   \n",
              "3           201810.0         28/11/2017                 27/11/2017      ADD   \n",
              "4           201810.0          5/01/2018                 10/01/2018      ADD   \n",
              "\n",
              "  Tipo ID Fecha Nacimiento Puntaje Icfes Fecha Icfes Puesto Icfes  \\\n",
              "0      CC        2/03/1999         336.0  12/03/2017         76.0   \n",
              "1      CC       24/04/2000         336.0  27/08/2017          NaN   \n",
              "2      CC       20/07/1988           NaN  26/03/2006        233.0   \n",
              "3      TI       22/03/2001         330.0  27/08/2017          NaN   \n",
              "4      CC       11/08/1999         327.0  31/07/2016          NaN   \n",
              "\n",
              "  CÃ³digo Colegio  ... CrÃ©ditos U Valor Icetex Valor matricula  \\\n",
              "0          C01407  ...         NaN          0.0             0.0   \n",
              "1          C07849  ...         NaN   18660000.0             0.0   \n",
              "2          C01454  ...         NaN          0.0       9090000.0   \n",
              "3          C08338  ...         NaN          0.0             0.0   \n",
              "4          C07849  ...         NaN   72854000.0       9090000.0   \n",
              "\n",
              "  Valor procultura CrÃ©ditos U (PCR) Fecha pago matricula Valor matricula.1  \\\n",
              "0              0.0               0.0                  NaN               0.0   \n",
              "1              0.0               0.0                  NaN               0.0   \n",
              "2         136350.0               0.0            2/01/2018         9226350.0   \n",
              "3              0.0               0.0                  NaN               0.0   \n",
              "4         136350.0               0.0           11/01/2018         9226350.0   \n",
              "\n",
              "  Saldo Pre              source_file Unnamed: 78  \n",
              "0       0.0  201810 - 12-02-2025.csv         NaN  \n",
              "1       0.0  201810 - 12-02-2025.csv         NaN  \n",
              "2       0.0  201810 - 12-02-2025.csv         NaN  \n",
              "3       0.0  201810 - 12-02-2025.csv         NaN  \n",
              "4       0.0  201810 - 12-02-2025.csv         NaN  \n",
              "\n",
              "[5 rows x 79 columns]"
            ],
            "text/html": [
              "\n",
              "  <div id=\"df-2abeb5f5-f7ae-4760-8290-e5860a8a8c09\" class=\"colab-df-container\">\n",
              "    <div>\n",
              "<style scoped>\n",
              "    .dataframe tbody tr th:only-of-type {\n",
              "        vertical-align: middle;\n",
              "    }\n",
              "\n",
              "    .dataframe tbody tr th {\n",
              "        vertical-align: top;\n",
              "    }\n",
              "\n",
              "    .dataframe thead th {\n",
              "        text-align: right;\n",
              "    }\n",
              "</style>\n",
              "<table border=\"1\" class=\"dataframe\">\n",
              "  <thead>\n",
              "    <tr style=\"text-align: right;\">\n",
              "      <th></th>\n",
              "      <th>Periodo AdmisiÃ³n</th>\n",
              "      <th>Fecha InscripciÃ³n</th>\n",
              "      <th>Fecha solicitud completada</th>\n",
              "      <th>Programa</th>\n",
              "      <th>Tipo ID</th>\n",
              "      <th>Fecha Nacimiento</th>\n",
              "      <th>Puntaje Icfes</th>\n",
              "      <th>Fecha Icfes</th>\n",
              "      <th>Puesto Icfes</th>\n",
              "      <th>CÃ³digo Colegio</th>\n",
              "      <th>...</th>\n",
              "      <th>CrÃ©ditos U</th>\n",
              "      <th>Valor Icetex</th>\n",
              "      <th>Valor matricula</th>\n",
              "      <th>Valor procultura</th>\n",
              "      <th>CrÃ©ditos U (PCR)</th>\n",
              "      <th>Fecha pago matricula</th>\n",
              "      <th>Valor matricula.1</th>\n",
              "      <th>Saldo Pre</th>\n",
              "      <th>source_file</th>\n",
              "      <th>Unnamed: 78</th>\n",
              "    </tr>\n",
              "  </thead>\n",
              "  <tbody>\n",
              "    <tr>\n",
              "      <th>0</th>\n",
              "      <td>201720.0</td>\n",
              "      <td>26/09/2017</td>\n",
              "      <td>NaN</td>\n",
              "      <td>ADD</td>\n",
              "      <td>CC</td>\n",
              "      <td>2/03/1999</td>\n",
              "      <td>336.0</td>\n",
              "      <td>12/03/2017</td>\n",
              "      <td>76.0</td>\n",
              "      <td>C01407</td>\n",
              "      <td>...</td>\n",
              "      <td>NaN</td>\n",
              "      <td>0.0</td>\n",
              "      <td>0.0</td>\n",
              "      <td>0.0</td>\n",
              "      <td>0.0</td>\n",
              "      <td>NaN</td>\n",
              "      <td>0.0</td>\n",
              "      <td>0.0</td>\n",
              "      <td>201810 - 12-02-2025.csv</td>\n",
              "      <td>NaN</td>\n",
              "    </tr>\n",
              "    <tr>\n",
              "      <th>1</th>\n",
              "      <td>201810.0</td>\n",
              "      <td>21/11/2017</td>\n",
              "      <td>21/11/2017</td>\n",
              "      <td>ADD</td>\n",
              "      <td>CC</td>\n",
              "      <td>24/04/2000</td>\n",
              "      <td>336.0</td>\n",
              "      <td>27/08/2017</td>\n",
              "      <td>NaN</td>\n",
              "      <td>C07849</td>\n",
              "      <td>...</td>\n",
              "      <td>NaN</td>\n",
              "      <td>18660000.0</td>\n",
              "      <td>0.0</td>\n",
              "      <td>0.0</td>\n",
              "      <td>0.0</td>\n",
              "      <td>NaN</td>\n",
              "      <td>0.0</td>\n",
              "      <td>0.0</td>\n",
              "      <td>201810 - 12-02-2025.csv</td>\n",
              "      <td>NaN</td>\n",
              "    </tr>\n",
              "    <tr>\n",
              "      <th>2</th>\n",
              "      <td>201810.0</td>\n",
              "      <td>21/10/2017</td>\n",
              "      <td>21/10/2017</td>\n",
              "      <td>ADD</td>\n",
              "      <td>CC</td>\n",
              "      <td>20/07/1988</td>\n",
              "      <td>NaN</td>\n",
              "      <td>26/03/2006</td>\n",
              "      <td>233.0</td>\n",
              "      <td>C01454</td>\n",
              "      <td>...</td>\n",
              "      <td>NaN</td>\n",
              "      <td>0.0</td>\n",
              "      <td>9090000.0</td>\n",
              "      <td>136350.0</td>\n",
              "      <td>0.0</td>\n",
              "      <td>2/01/2018</td>\n",
              "      <td>9226350.0</td>\n",
              "      <td>0.0</td>\n",
              "      <td>201810 - 12-02-2025.csv</td>\n",
              "      <td>NaN</td>\n",
              "    </tr>\n",
              "    <tr>\n",
              "      <th>3</th>\n",
              "      <td>201810.0</td>\n",
              "      <td>28/11/2017</td>\n",
              "      <td>27/11/2017</td>\n",
              "      <td>ADD</td>\n",
              "      <td>TI</td>\n",
              "      <td>22/03/2001</td>\n",
              "      <td>330.0</td>\n",
              "      <td>27/08/2017</td>\n",
              "      <td>NaN</td>\n",
              "      <td>C08338</td>\n",
              "      <td>...</td>\n",
              "      <td>NaN</td>\n",
              "      <td>0.0</td>\n",
              "      <td>0.0</td>\n",
              "      <td>0.0</td>\n",
              "      <td>0.0</td>\n",
              "      <td>NaN</td>\n",
              "      <td>0.0</td>\n",
              "      <td>0.0</td>\n",
              "      <td>201810 - 12-02-2025.csv</td>\n",
              "      <td>NaN</td>\n",
              "    </tr>\n",
              "    <tr>\n",
              "      <th>4</th>\n",
              "      <td>201810.0</td>\n",
              "      <td>5/01/2018</td>\n",
              "      <td>10/01/2018</td>\n",
              "      <td>ADD</td>\n",
              "      <td>CC</td>\n",
              "      <td>11/08/1999</td>\n",
              "      <td>327.0</td>\n",
              "      <td>31/07/2016</td>\n",
              "      <td>NaN</td>\n",
              "      <td>C07849</td>\n",
              "      <td>...</td>\n",
              "      <td>NaN</td>\n",
              "      <td>72854000.0</td>\n",
              "      <td>9090000.0</td>\n",
              "      <td>136350.0</td>\n",
              "      <td>0.0</td>\n",
              "      <td>11/01/2018</td>\n",
              "      <td>9226350.0</td>\n",
              "      <td>0.0</td>\n",
              "      <td>201810 - 12-02-2025.csv</td>\n",
              "      <td>NaN</td>\n",
              "    </tr>\n",
              "  </tbody>\n",
              "</table>\n",
              "<p>5 rows × 79 columns</p>\n",
              "</div>\n",
              "    <div class=\"colab-df-buttons\">\n",
              "\n",
              "  <div class=\"colab-df-container\">\n",
              "    <button class=\"colab-df-convert\" onclick=\"convertToInteractive('df-2abeb5f5-f7ae-4760-8290-e5860a8a8c09')\"\n",
              "            title=\"Convert this dataframe to an interactive table.\"\n",
              "            style=\"display:none;\">\n",
              "\n",
              "  <svg xmlns=\"http://www.w3.org/2000/svg\" height=\"24px\" viewBox=\"0 -960 960 960\">\n",
              "    <path d=\"M120-120v-720h720v720H120Zm60-500h600v-160H180v160Zm220 220h160v-160H400v160Zm0 220h160v-160H400v160ZM180-400h160v-160H180v160Zm440 0h160v-160H620v160ZM180-180h160v-160H180v160Zm440 0h160v-160H620v160Z\"/>\n",
              "  </svg>\n",
              "    </button>\n",
              "\n",
              "  <style>\n",
              "    .colab-df-container {\n",
              "      display:flex;\n",
              "      gap: 12px;\n",
              "    }\n",
              "\n",
              "    .colab-df-convert {\n",
              "      background-color: #E8F0FE;\n",
              "      border: none;\n",
              "      border-radius: 50%;\n",
              "      cursor: pointer;\n",
              "      display: none;\n",
              "      fill: #1967D2;\n",
              "      height: 32px;\n",
              "      padding: 0 0 0 0;\n",
              "      width: 32px;\n",
              "    }\n",
              "\n",
              "    .colab-df-convert:hover {\n",
              "      background-color: #E2EBFA;\n",
              "      box-shadow: 0px 1px 2px rgba(60, 64, 67, 0.3), 0px 1px 3px 1px rgba(60, 64, 67, 0.15);\n",
              "      fill: #174EA6;\n",
              "    }\n",
              "\n",
              "    .colab-df-buttons div {\n",
              "      margin-bottom: 4px;\n",
              "    }\n",
              "\n",
              "    [theme=dark] .colab-df-convert {\n",
              "      background-color: #3B4455;\n",
              "      fill: #D2E3FC;\n",
              "    }\n",
              "\n",
              "    [theme=dark] .colab-df-convert:hover {\n",
              "      background-color: #434B5C;\n",
              "      box-shadow: 0px 1px 3px 1px rgba(0, 0, 0, 0.15);\n",
              "      filter: drop-shadow(0px 1px 2px rgba(0, 0, 0, 0.3));\n",
              "      fill: #FFFFFF;\n",
              "    }\n",
              "  </style>\n",
              "\n",
              "    <script>\n",
              "      const buttonEl =\n",
              "        document.querySelector('#df-2abeb5f5-f7ae-4760-8290-e5860a8a8c09 button.colab-df-convert');\n",
              "      buttonEl.style.display =\n",
              "        google.colab.kernel.accessAllowed ? 'block' : 'none';\n",
              "\n",
              "      async function convertToInteractive(key) {\n",
              "        const element = document.querySelector('#df-2abeb5f5-f7ae-4760-8290-e5860a8a8c09');\n",
              "        const dataTable =\n",
              "          await google.colab.kernel.invokeFunction('convertToInteractive',\n",
              "                                                    [key], {});\n",
              "        if (!dataTable) return;\n",
              "\n",
              "        const docLinkHtml = 'Like what you see? Visit the ' +\n",
              "          '<a target=\"_blank\" href=https://colab.research.google.com/notebooks/data_table.ipynb>data table notebook</a>'\n",
              "          + ' to learn more about interactive tables.';\n",
              "        element.innerHTML = '';\n",
              "        dataTable['output_type'] = 'display_data';\n",
              "        await google.colab.output.renderOutput(dataTable, element);\n",
              "        const docLink = document.createElement('div');\n",
              "        docLink.innerHTML = docLinkHtml;\n",
              "        element.appendChild(docLink);\n",
              "      }\n",
              "    </script>\n",
              "  </div>\n",
              "\n",
              "\n",
              "    <div id=\"df-66615541-5436-434b-bd3d-26a72dee7cf1\">\n",
              "      <button class=\"colab-df-quickchart\" onclick=\"quickchart('df-66615541-5436-434b-bd3d-26a72dee7cf1')\"\n",
              "                title=\"Suggest charts\"\n",
              "                style=\"display:none;\">\n",
              "\n",
              "<svg xmlns=\"http://www.w3.org/2000/svg\" height=\"24px\"viewBox=\"0 0 24 24\"\n",
              "     width=\"24px\">\n",
              "    <g>\n",
              "        <path d=\"M19 3H5c-1.1 0-2 .9-2 2v14c0 1.1.9 2 2 2h14c1.1 0 2-.9 2-2V5c0-1.1-.9-2-2-2zM9 17H7v-7h2v7zm4 0h-2V7h2v10zm4 0h-2v-4h2v4z\"/>\n",
              "    </g>\n",
              "</svg>\n",
              "      </button>\n",
              "\n",
              "<style>\n",
              "  .colab-df-quickchart {\n",
              "      --bg-color: #E8F0FE;\n",
              "      --fill-color: #1967D2;\n",
              "      --hover-bg-color: #E2EBFA;\n",
              "      --hover-fill-color: #174EA6;\n",
              "      --disabled-fill-color: #AAA;\n",
              "      --disabled-bg-color: #DDD;\n",
              "  }\n",
              "\n",
              "  [theme=dark] .colab-df-quickchart {\n",
              "      --bg-color: #3B4455;\n",
              "      --fill-color: #D2E3FC;\n",
              "      --hover-bg-color: #434B5C;\n",
              "      --hover-fill-color: #FFFFFF;\n",
              "      --disabled-bg-color: #3B4455;\n",
              "      --disabled-fill-color: #666;\n",
              "  }\n",
              "\n",
              "  .colab-df-quickchart {\n",
              "    background-color: var(--bg-color);\n",
              "    border: none;\n",
              "    border-radius: 50%;\n",
              "    cursor: pointer;\n",
              "    display: none;\n",
              "    fill: var(--fill-color);\n",
              "    height: 32px;\n",
              "    padding: 0;\n",
              "    width: 32px;\n",
              "  }\n",
              "\n",
              "  .colab-df-quickchart:hover {\n",
              "    background-color: var(--hover-bg-color);\n",
              "    box-shadow: 0 1px 2px rgba(60, 64, 67, 0.3), 0 1px 3px 1px rgba(60, 64, 67, 0.15);\n",
              "    fill: var(--button-hover-fill-color);\n",
              "  }\n",
              "\n",
              "  .colab-df-quickchart-complete:disabled,\n",
              "  .colab-df-quickchart-complete:disabled:hover {\n",
              "    background-color: var(--disabled-bg-color);\n",
              "    fill: var(--disabled-fill-color);\n",
              "    box-shadow: none;\n",
              "  }\n",
              "\n",
              "  .colab-df-spinner {\n",
              "    border: 2px solid var(--fill-color);\n",
              "    border-color: transparent;\n",
              "    border-bottom-color: var(--fill-color);\n",
              "    animation:\n",
              "      spin 1s steps(1) infinite;\n",
              "  }\n",
              "\n",
              "  @keyframes spin {\n",
              "    0% {\n",
              "      border-color: transparent;\n",
              "      border-bottom-color: var(--fill-color);\n",
              "      border-left-color: var(--fill-color);\n",
              "    }\n",
              "    20% {\n",
              "      border-color: transparent;\n",
              "      border-left-color: var(--fill-color);\n",
              "      border-top-color: var(--fill-color);\n",
              "    }\n",
              "    30% {\n",
              "      border-color: transparent;\n",
              "      border-left-color: var(--fill-color);\n",
              "      border-top-color: var(--fill-color);\n",
              "      border-right-color: var(--fill-color);\n",
              "    }\n",
              "    40% {\n",
              "      border-color: transparent;\n",
              "      border-right-color: var(--fill-color);\n",
              "      border-top-color: var(--fill-color);\n",
              "    }\n",
              "    60% {\n",
              "      border-color: transparent;\n",
              "      border-right-color: var(--fill-color);\n",
              "    }\n",
              "    80% {\n",
              "      border-color: transparent;\n",
              "      border-right-color: var(--fill-color);\n",
              "      border-bottom-color: var(--fill-color);\n",
              "    }\n",
              "    90% {\n",
              "      border-color: transparent;\n",
              "      border-bottom-color: var(--fill-color);\n",
              "    }\n",
              "  }\n",
              "</style>\n",
              "\n",
              "      <script>\n",
              "        async function quickchart(key) {\n",
              "          const quickchartButtonEl =\n",
              "            document.querySelector('#' + key + ' button');\n",
              "          quickchartButtonEl.disabled = true;  // To prevent multiple clicks.\n",
              "          quickchartButtonEl.classList.add('colab-df-spinner');\n",
              "          try {\n",
              "            const charts = await google.colab.kernel.invokeFunction(\n",
              "                'suggestCharts', [key], {});\n",
              "          } catch (error) {\n",
              "            console.error('Error during call to suggestCharts:', error);\n",
              "          }\n",
              "          quickchartButtonEl.classList.remove('colab-df-spinner');\n",
              "          quickchartButtonEl.classList.add('colab-df-quickchart-complete');\n",
              "        }\n",
              "        (() => {\n",
              "          let quickchartButtonEl =\n",
              "            document.querySelector('#df-66615541-5436-434b-bd3d-26a72dee7cf1 button');\n",
              "          quickchartButtonEl.style.display =\n",
              "            google.colab.kernel.accessAllowed ? 'block' : 'none';\n",
              "        })();\n",
              "      </script>\n",
              "    </div>\n",
              "\n",
              "    </div>\n",
              "  </div>\n"
            ],
            "application/vnd.google.colaboratory.intrinsic+json": {
              "type": "dataframe",
              "variable_name": "df"
            }
          },
          "metadata": {},
          "execution_count": 3
        }
      ]
    },
    {
      "cell_type": "code",
      "source": [
        "df.shape"
      ],
      "metadata": {
        "colab": {
          "base_uri": "https://localhost:8080/"
        },
        "id": "6MgfAdlG7dNK",
        "outputId": "865c8e52-64bf-4566-a95d-08b2cbb1e00b"
      },
      "execution_count": null,
      "outputs": [
        {
          "output_type": "execute_result",
          "data": {
            "text/plain": [
              "(20154, 79)"
            ]
          },
          "metadata": {},
          "execution_count": 4
        }
      ]
    },
    {
      "cell_type": "markdown",
      "source": [
        "Encontramos un total del 77 columnas y 16676 registros."
      ],
      "metadata": {
        "id": "oNDIt8jh7108"
      }
    },
    {
      "cell_type": "markdown",
      "source": [
        "Cabe aclarar que el dataframe original contenía un total de 96 columnas de las cuales fueron eliminadas 19, pues estas representaban datos sensibles que permitían identificar y/o contactar a personas reales."
      ],
      "metadata": {
        "id": "n453q6jg8Sue"
      }
    },
    {
      "cell_type": "markdown",
      "source": [
        "Además, conocemos que la información se encuentra actualizada hasta agosto de 2024; por lo que esta podría ser una limitación del proyecto y se buscará en próximas versiones obtener información más actualizada."
      ],
      "metadata": {
        "id": "5952jZ4B9nrc"
      }
    },
    {
      "cell_type": "markdown",
      "source": [
        "### Problema de codificación"
      ],
      "metadata": {
        "id": "pmEIk0QK5eah"
      }
    },
    {
      "cell_type": "markdown",
      "source": [
        "Detectamos un error de codificación que genera caracteres extraños en los datos que contienen tildes y la letra \"ñ\" (También conocido como mojibake). Este problema se originó durante la carga de los datos y no pudo ser corregido en ese momento. Para solucionarlo, aplicaremos la codificación UTF-8 únicamente en las partes donde se presenta el error, ya que reconvertir todas las columnas provocaba fallas en la ejecución."
      ],
      "metadata": {
        "id": "OvwUdE5vwpTA"
      }
    },
    {
      "cell_type": "code",
      "source": [
        "import pandas as pd\n",
        "\n",
        "def fix_mojibake(x):\n",
        "    if isinstance(x, str):\n",
        "        # Solo intentamos corregir si \"huele\" a mojibake común\n",
        "        if any(bad in x for bad in (\"Ã\", \"Â\", \"â€\", \"â€™\", \"â€œ\", \"â€\\x9d\")):\n",
        "            for enc in (\"latin1\", \"cp1252\"):  # probar variantes comunes de Windows\n",
        "                try:\n",
        "                    return x.encode(enc).decode(\"utf-8\")\n",
        "                except (UnicodeEncodeError, UnicodeDecodeError):\n",
        "                    pass\n",
        "        return x\n",
        "    return x\n",
        "\n",
        "# Opción A: pandas >= 2.2 (tiene DataFrame.map)\n",
        "if hasattr(pd.DataFrame, \"map\"):\n",
        "    df = df.map(fix_mojibake)\n",
        "else:\n",
        "    # Opción B: versiones anteriores: usar Series.map por columna de texto\n",
        "    for c in df.select_dtypes(include=[\"object\", \"string\"]).columns:\n",
        "        df[c] = df[c].map(fix_mojibake)\n"
      ],
      "metadata": {
        "id": "qzw81pvs4-Ig"
      },
      "execution_count": null,
      "outputs": []
    },
    {
      "cell_type": "code",
      "source": [
        "df.head()"
      ],
      "metadata": {
        "colab": {
          "base_uri": "https://localhost:8080/",
          "height": 377
        },
        "id": "r7UiwdwV4-lB",
        "outputId": "3dd6afc4-9972-4240-fc15-d36a242eb166"
      },
      "execution_count": null,
      "outputs": [
        {
          "output_type": "execute_result",
          "data": {
            "text/plain": [
              "   Periodo AdmisiÃ³n Fecha InscripciÃ³n Fecha solicitud completada Programa  \\\n",
              "0           201720.0         26/09/2017                        NaN      ADD   \n",
              "1           201810.0         21/11/2017                 21/11/2017      ADD   \n",
              "2           201810.0         21/10/2017                 21/10/2017      ADD   \n",
              "3           201810.0         28/11/2017                 27/11/2017      ADD   \n",
              "4           201810.0          5/01/2018                 10/01/2018      ADD   \n",
              "\n",
              "  Tipo ID Fecha Nacimiento Puntaje Icfes Fecha Icfes Puesto Icfes  \\\n",
              "0      CC        2/03/1999         336.0  12/03/2017         76.0   \n",
              "1      CC       24/04/2000         336.0  27/08/2017          NaN   \n",
              "2      CC       20/07/1988           NaN  26/03/2006        233.0   \n",
              "3      TI       22/03/2001         330.0  27/08/2017          NaN   \n",
              "4      CC       11/08/1999         327.0  31/07/2016          NaN   \n",
              "\n",
              "  CÃ³digo Colegio  ... CrÃ©ditos U Valor Icetex Valor matricula  \\\n",
              "0          C01407  ...         NaN          0.0             0.0   \n",
              "1          C07849  ...         NaN   18660000.0             0.0   \n",
              "2          C01454  ...         NaN          0.0       9090000.0   \n",
              "3          C08338  ...         NaN          0.0             0.0   \n",
              "4          C07849  ...         NaN   72854000.0       9090000.0   \n",
              "\n",
              "  Valor procultura CrÃ©ditos U (PCR) Fecha pago matricula Valor matricula.1  \\\n",
              "0              0.0               0.0                  NaN               0.0   \n",
              "1              0.0               0.0                  NaN               0.0   \n",
              "2         136350.0               0.0            2/01/2018         9226350.0   \n",
              "3              0.0               0.0                  NaN               0.0   \n",
              "4         136350.0               0.0           11/01/2018         9226350.0   \n",
              "\n",
              "  Saldo Pre              source_file Unnamed: 78  \n",
              "0       0.0  201810 - 12-02-2025.csv         NaN  \n",
              "1       0.0  201810 - 12-02-2025.csv         NaN  \n",
              "2       0.0  201810 - 12-02-2025.csv         NaN  \n",
              "3       0.0  201810 - 12-02-2025.csv         NaN  \n",
              "4       0.0  201810 - 12-02-2025.csv         NaN  \n",
              "\n",
              "[5 rows x 79 columns]"
            ],
            "text/html": [
              "\n",
              "  <div id=\"df-0e45881f-aa8e-4fe4-8906-a16d357aaaee\" class=\"colab-df-container\">\n",
              "    <div>\n",
              "<style scoped>\n",
              "    .dataframe tbody tr th:only-of-type {\n",
              "        vertical-align: middle;\n",
              "    }\n",
              "\n",
              "    .dataframe tbody tr th {\n",
              "        vertical-align: top;\n",
              "    }\n",
              "\n",
              "    .dataframe thead th {\n",
              "        text-align: right;\n",
              "    }\n",
              "</style>\n",
              "<table border=\"1\" class=\"dataframe\">\n",
              "  <thead>\n",
              "    <tr style=\"text-align: right;\">\n",
              "      <th></th>\n",
              "      <th>Periodo AdmisiÃ³n</th>\n",
              "      <th>Fecha InscripciÃ³n</th>\n",
              "      <th>Fecha solicitud completada</th>\n",
              "      <th>Programa</th>\n",
              "      <th>Tipo ID</th>\n",
              "      <th>Fecha Nacimiento</th>\n",
              "      <th>Puntaje Icfes</th>\n",
              "      <th>Fecha Icfes</th>\n",
              "      <th>Puesto Icfes</th>\n",
              "      <th>CÃ³digo Colegio</th>\n",
              "      <th>...</th>\n",
              "      <th>CrÃ©ditos U</th>\n",
              "      <th>Valor Icetex</th>\n",
              "      <th>Valor matricula</th>\n",
              "      <th>Valor procultura</th>\n",
              "      <th>CrÃ©ditos U (PCR)</th>\n",
              "      <th>Fecha pago matricula</th>\n",
              "      <th>Valor matricula.1</th>\n",
              "      <th>Saldo Pre</th>\n",
              "      <th>source_file</th>\n",
              "      <th>Unnamed: 78</th>\n",
              "    </tr>\n",
              "  </thead>\n",
              "  <tbody>\n",
              "    <tr>\n",
              "      <th>0</th>\n",
              "      <td>201720.0</td>\n",
              "      <td>26/09/2017</td>\n",
              "      <td>NaN</td>\n",
              "      <td>ADD</td>\n",
              "      <td>CC</td>\n",
              "      <td>2/03/1999</td>\n",
              "      <td>336.0</td>\n",
              "      <td>12/03/2017</td>\n",
              "      <td>76.0</td>\n",
              "      <td>C01407</td>\n",
              "      <td>...</td>\n",
              "      <td>NaN</td>\n",
              "      <td>0.0</td>\n",
              "      <td>0.0</td>\n",
              "      <td>0.0</td>\n",
              "      <td>0.0</td>\n",
              "      <td>NaN</td>\n",
              "      <td>0.0</td>\n",
              "      <td>0.0</td>\n",
              "      <td>201810 - 12-02-2025.csv</td>\n",
              "      <td>NaN</td>\n",
              "    </tr>\n",
              "    <tr>\n",
              "      <th>1</th>\n",
              "      <td>201810.0</td>\n",
              "      <td>21/11/2017</td>\n",
              "      <td>21/11/2017</td>\n",
              "      <td>ADD</td>\n",
              "      <td>CC</td>\n",
              "      <td>24/04/2000</td>\n",
              "      <td>336.0</td>\n",
              "      <td>27/08/2017</td>\n",
              "      <td>NaN</td>\n",
              "      <td>C07849</td>\n",
              "      <td>...</td>\n",
              "      <td>NaN</td>\n",
              "      <td>18660000.0</td>\n",
              "      <td>0.0</td>\n",
              "      <td>0.0</td>\n",
              "      <td>0.0</td>\n",
              "      <td>NaN</td>\n",
              "      <td>0.0</td>\n",
              "      <td>0.0</td>\n",
              "      <td>201810 - 12-02-2025.csv</td>\n",
              "      <td>NaN</td>\n",
              "    </tr>\n",
              "    <tr>\n",
              "      <th>2</th>\n",
              "      <td>201810.0</td>\n",
              "      <td>21/10/2017</td>\n",
              "      <td>21/10/2017</td>\n",
              "      <td>ADD</td>\n",
              "      <td>CC</td>\n",
              "      <td>20/07/1988</td>\n",
              "      <td>NaN</td>\n",
              "      <td>26/03/2006</td>\n",
              "      <td>233.0</td>\n",
              "      <td>C01454</td>\n",
              "      <td>...</td>\n",
              "      <td>NaN</td>\n",
              "      <td>0.0</td>\n",
              "      <td>9090000.0</td>\n",
              "      <td>136350.0</td>\n",
              "      <td>0.0</td>\n",
              "      <td>2/01/2018</td>\n",
              "      <td>9226350.0</td>\n",
              "      <td>0.0</td>\n",
              "      <td>201810 - 12-02-2025.csv</td>\n",
              "      <td>NaN</td>\n",
              "    </tr>\n",
              "    <tr>\n",
              "      <th>3</th>\n",
              "      <td>201810.0</td>\n",
              "      <td>28/11/2017</td>\n",
              "      <td>27/11/2017</td>\n",
              "      <td>ADD</td>\n",
              "      <td>TI</td>\n",
              "      <td>22/03/2001</td>\n",
              "      <td>330.0</td>\n",
              "      <td>27/08/2017</td>\n",
              "      <td>NaN</td>\n",
              "      <td>C08338</td>\n",
              "      <td>...</td>\n",
              "      <td>NaN</td>\n",
              "      <td>0.0</td>\n",
              "      <td>0.0</td>\n",
              "      <td>0.0</td>\n",
              "      <td>0.0</td>\n",
              "      <td>NaN</td>\n",
              "      <td>0.0</td>\n",
              "      <td>0.0</td>\n",
              "      <td>201810 - 12-02-2025.csv</td>\n",
              "      <td>NaN</td>\n",
              "    </tr>\n",
              "    <tr>\n",
              "      <th>4</th>\n",
              "      <td>201810.0</td>\n",
              "      <td>5/01/2018</td>\n",
              "      <td>10/01/2018</td>\n",
              "      <td>ADD</td>\n",
              "      <td>CC</td>\n",
              "      <td>11/08/1999</td>\n",
              "      <td>327.0</td>\n",
              "      <td>31/07/2016</td>\n",
              "      <td>NaN</td>\n",
              "      <td>C07849</td>\n",
              "      <td>...</td>\n",
              "      <td>NaN</td>\n",
              "      <td>72854000.0</td>\n",
              "      <td>9090000.0</td>\n",
              "      <td>136350.0</td>\n",
              "      <td>0.0</td>\n",
              "      <td>11/01/2018</td>\n",
              "      <td>9226350.0</td>\n",
              "      <td>0.0</td>\n",
              "      <td>201810 - 12-02-2025.csv</td>\n",
              "      <td>NaN</td>\n",
              "    </tr>\n",
              "  </tbody>\n",
              "</table>\n",
              "<p>5 rows × 79 columns</p>\n",
              "</div>\n",
              "    <div class=\"colab-df-buttons\">\n",
              "\n",
              "  <div class=\"colab-df-container\">\n",
              "    <button class=\"colab-df-convert\" onclick=\"convertToInteractive('df-0e45881f-aa8e-4fe4-8906-a16d357aaaee')\"\n",
              "            title=\"Convert this dataframe to an interactive table.\"\n",
              "            style=\"display:none;\">\n",
              "\n",
              "  <svg xmlns=\"http://www.w3.org/2000/svg\" height=\"24px\" viewBox=\"0 -960 960 960\">\n",
              "    <path d=\"M120-120v-720h720v720H120Zm60-500h600v-160H180v160Zm220 220h160v-160H400v160Zm0 220h160v-160H400v160ZM180-400h160v-160H180v160Zm440 0h160v-160H620v160ZM180-180h160v-160H180v160Zm440 0h160v-160H620v160Z\"/>\n",
              "  </svg>\n",
              "    </button>\n",
              "\n",
              "  <style>\n",
              "    .colab-df-container {\n",
              "      display:flex;\n",
              "      gap: 12px;\n",
              "    }\n",
              "\n",
              "    .colab-df-convert {\n",
              "      background-color: #E8F0FE;\n",
              "      border: none;\n",
              "      border-radius: 50%;\n",
              "      cursor: pointer;\n",
              "      display: none;\n",
              "      fill: #1967D2;\n",
              "      height: 32px;\n",
              "      padding: 0 0 0 0;\n",
              "      width: 32px;\n",
              "    }\n",
              "\n",
              "    .colab-df-convert:hover {\n",
              "      background-color: #E2EBFA;\n",
              "      box-shadow: 0px 1px 2px rgba(60, 64, 67, 0.3), 0px 1px 3px 1px rgba(60, 64, 67, 0.15);\n",
              "      fill: #174EA6;\n",
              "    }\n",
              "\n",
              "    .colab-df-buttons div {\n",
              "      margin-bottom: 4px;\n",
              "    }\n",
              "\n",
              "    [theme=dark] .colab-df-convert {\n",
              "      background-color: #3B4455;\n",
              "      fill: #D2E3FC;\n",
              "    }\n",
              "\n",
              "    [theme=dark] .colab-df-convert:hover {\n",
              "      background-color: #434B5C;\n",
              "      box-shadow: 0px 1px 3px 1px rgba(0, 0, 0, 0.15);\n",
              "      filter: drop-shadow(0px 1px 2px rgba(0, 0, 0, 0.3));\n",
              "      fill: #FFFFFF;\n",
              "    }\n",
              "  </style>\n",
              "\n",
              "    <script>\n",
              "      const buttonEl =\n",
              "        document.querySelector('#df-0e45881f-aa8e-4fe4-8906-a16d357aaaee button.colab-df-convert');\n",
              "      buttonEl.style.display =\n",
              "        google.colab.kernel.accessAllowed ? 'block' : 'none';\n",
              "\n",
              "      async function convertToInteractive(key) {\n",
              "        const element = document.querySelector('#df-0e45881f-aa8e-4fe4-8906-a16d357aaaee');\n",
              "        const dataTable =\n",
              "          await google.colab.kernel.invokeFunction('convertToInteractive',\n",
              "                                                    [key], {});\n",
              "        if (!dataTable) return;\n",
              "\n",
              "        const docLinkHtml = 'Like what you see? Visit the ' +\n",
              "          '<a target=\"_blank\" href=https://colab.research.google.com/notebooks/data_table.ipynb>data table notebook</a>'\n",
              "          + ' to learn more about interactive tables.';\n",
              "        element.innerHTML = '';\n",
              "        dataTable['output_type'] = 'display_data';\n",
              "        await google.colab.output.renderOutput(dataTable, element);\n",
              "        const docLink = document.createElement('div');\n",
              "        docLink.innerHTML = docLinkHtml;\n",
              "        element.appendChild(docLink);\n",
              "      }\n",
              "    </script>\n",
              "  </div>\n",
              "\n",
              "\n",
              "    <div id=\"df-617ea01a-4d83-460e-bc99-0f982d0d75f0\">\n",
              "      <button class=\"colab-df-quickchart\" onclick=\"quickchart('df-617ea01a-4d83-460e-bc99-0f982d0d75f0')\"\n",
              "                title=\"Suggest charts\"\n",
              "                style=\"display:none;\">\n",
              "\n",
              "<svg xmlns=\"http://www.w3.org/2000/svg\" height=\"24px\"viewBox=\"0 0 24 24\"\n",
              "     width=\"24px\">\n",
              "    <g>\n",
              "        <path d=\"M19 3H5c-1.1 0-2 .9-2 2v14c0 1.1.9 2 2 2h14c1.1 0 2-.9 2-2V5c0-1.1-.9-2-2-2zM9 17H7v-7h2v7zm4 0h-2V7h2v10zm4 0h-2v-4h2v4z\"/>\n",
              "    </g>\n",
              "</svg>\n",
              "      </button>\n",
              "\n",
              "<style>\n",
              "  .colab-df-quickchart {\n",
              "      --bg-color: #E8F0FE;\n",
              "      --fill-color: #1967D2;\n",
              "      --hover-bg-color: #E2EBFA;\n",
              "      --hover-fill-color: #174EA6;\n",
              "      --disabled-fill-color: #AAA;\n",
              "      --disabled-bg-color: #DDD;\n",
              "  }\n",
              "\n",
              "  [theme=dark] .colab-df-quickchart {\n",
              "      --bg-color: #3B4455;\n",
              "      --fill-color: #D2E3FC;\n",
              "      --hover-bg-color: #434B5C;\n",
              "      --hover-fill-color: #FFFFFF;\n",
              "      --disabled-bg-color: #3B4455;\n",
              "      --disabled-fill-color: #666;\n",
              "  }\n",
              "\n",
              "  .colab-df-quickchart {\n",
              "    background-color: var(--bg-color);\n",
              "    border: none;\n",
              "    border-radius: 50%;\n",
              "    cursor: pointer;\n",
              "    display: none;\n",
              "    fill: var(--fill-color);\n",
              "    height: 32px;\n",
              "    padding: 0;\n",
              "    width: 32px;\n",
              "  }\n",
              "\n",
              "  .colab-df-quickchart:hover {\n",
              "    background-color: var(--hover-bg-color);\n",
              "    box-shadow: 0 1px 2px rgba(60, 64, 67, 0.3), 0 1px 3px 1px rgba(60, 64, 67, 0.15);\n",
              "    fill: var(--button-hover-fill-color);\n",
              "  }\n",
              "\n",
              "  .colab-df-quickchart-complete:disabled,\n",
              "  .colab-df-quickchart-complete:disabled:hover {\n",
              "    background-color: var(--disabled-bg-color);\n",
              "    fill: var(--disabled-fill-color);\n",
              "    box-shadow: none;\n",
              "  }\n",
              "\n",
              "  .colab-df-spinner {\n",
              "    border: 2px solid var(--fill-color);\n",
              "    border-color: transparent;\n",
              "    border-bottom-color: var(--fill-color);\n",
              "    animation:\n",
              "      spin 1s steps(1) infinite;\n",
              "  }\n",
              "\n",
              "  @keyframes spin {\n",
              "    0% {\n",
              "      border-color: transparent;\n",
              "      border-bottom-color: var(--fill-color);\n",
              "      border-left-color: var(--fill-color);\n",
              "    }\n",
              "    20% {\n",
              "      border-color: transparent;\n",
              "      border-left-color: var(--fill-color);\n",
              "      border-top-color: var(--fill-color);\n",
              "    }\n",
              "    30% {\n",
              "      border-color: transparent;\n",
              "      border-left-color: var(--fill-color);\n",
              "      border-top-color: var(--fill-color);\n",
              "      border-right-color: var(--fill-color);\n",
              "    }\n",
              "    40% {\n",
              "      border-color: transparent;\n",
              "      border-right-color: var(--fill-color);\n",
              "      border-top-color: var(--fill-color);\n",
              "    }\n",
              "    60% {\n",
              "      border-color: transparent;\n",
              "      border-right-color: var(--fill-color);\n",
              "    }\n",
              "    80% {\n",
              "      border-color: transparent;\n",
              "      border-right-color: var(--fill-color);\n",
              "      border-bottom-color: var(--fill-color);\n",
              "    }\n",
              "    90% {\n",
              "      border-color: transparent;\n",
              "      border-bottom-color: var(--fill-color);\n",
              "    }\n",
              "  }\n",
              "</style>\n",
              "\n",
              "      <script>\n",
              "        async function quickchart(key) {\n",
              "          const quickchartButtonEl =\n",
              "            document.querySelector('#' + key + ' button');\n",
              "          quickchartButtonEl.disabled = true;  // To prevent multiple clicks.\n",
              "          quickchartButtonEl.classList.add('colab-df-spinner');\n",
              "          try {\n",
              "            const charts = await google.colab.kernel.invokeFunction(\n",
              "                'suggestCharts', [key], {});\n",
              "          } catch (error) {\n",
              "            console.error('Error during call to suggestCharts:', error);\n",
              "          }\n",
              "          quickchartButtonEl.classList.remove('colab-df-spinner');\n",
              "          quickchartButtonEl.classList.add('colab-df-quickchart-complete');\n",
              "        }\n",
              "        (() => {\n",
              "          let quickchartButtonEl =\n",
              "            document.querySelector('#df-617ea01a-4d83-460e-bc99-0f982d0d75f0 button');\n",
              "          quickchartButtonEl.style.display =\n",
              "            google.colab.kernel.accessAllowed ? 'block' : 'none';\n",
              "        })();\n",
              "      </script>\n",
              "    </div>\n",
              "\n",
              "    </div>\n",
              "  </div>\n"
            ],
            "application/vnd.google.colaboratory.intrinsic+json": {
              "type": "dataframe",
              "variable_name": "df"
            }
          },
          "metadata": {},
          "execution_count": 6
        }
      ]
    },
    {
      "cell_type": "markdown",
      "source": [
        "Finalmente corrijamos las columnas"
      ],
      "metadata": {
        "id": "4MX5gjHX5M62"
      }
    },
    {
      "cell_type": "code",
      "source": [
        "df.columns = df.columns.str.encode('latin1').str.decode('utf-8')\n",
        "df.columns"
      ],
      "metadata": {
        "colab": {
          "base_uri": "https://localhost:8080/"
        },
        "id": "fltbr77mc_Ph",
        "outputId": "2619fe37-1be9-425a-8cc9-312fedfd1f19"
      },
      "execution_count": null,
      "outputs": [
        {
          "output_type": "execute_result",
          "data": {
            "text/plain": [
              "Index(['Periodo Admisión', 'Fecha Inscripción', 'Fecha solicitud completada',\n",
              "       'Programa', 'Tipo ID', 'Fecha Nacimiento', 'Puntaje Icfes',\n",
              "       'Fecha Icfes', 'Puesto Icfes', 'Código Colegio', 'Nombre Colegio',\n",
              "       'Ciudad Colegio', 'Categoría', 'Calendario', 'Naturaleza',\n",
              "       'Clasificación', 'Población', 'Jornada', 'Estrato', 'Edad Aproximada',\n",
              "       'Género', 'Ciudad Residencia', 'Ciudad Nacimiento',\n",
              "       'Reserva Cupo Anterior', 'Reserva Cupo Actual', 'Fecha Reserva Cupo',\n",
              "       'Posible Reserva', 'No Toma Cupo', 'Icetex Aprobado', 'Icetex Estudio',\n",
              "       'Admitido', 'Fecha Admisión', 'Fecha no Admisión', 'Fecha Entrevista',\n",
              "       'Resultado Entrevista', 'Decisión Pendiente', 'Fecha Comentarios',\n",
              "       'Comentarios Antiguos', 'Fecha Comentarios Antiguos', 'Matrícula',\n",
              "       'Fecha Límite', 'Beca Gobierno', 'Beca Icesos Acces', 'Beca Excelencia',\n",
              "       'Otra Beca', 'Matemáticas', 'Lectura Crítica', 'Sociales Ciudadanas',\n",
              "       'Naturales', 'Inglés', 'Razonamiento Cuantitativo',\n",
              "       'Competencias Ciudadanas', 'DEBE VER ICARO', 'Matriculado Ícaro',\n",
              "       'Debe ver Papiro', 'Matriculado Papiro', 'Debe ver PROBO',\n",
              "       'Matriculado PROBO', 'Transferencia', 'Intercambio', 'EPS',\n",
              "       'Grupo Sanguíneo', 'Religión', 'Pilo Problema 2018', 'Prueba Sigma',\n",
              "       'Encuesta caracterización', 'Calificación Normalizada MED',\n",
              "       'Valor beca', 'Tipo beca', 'Créditos U', 'Valor Icetex',\n",
              "       'Valor matricula', 'Valor procultura', 'Créditos U (PCR)',\n",
              "       'Fecha pago matricula', 'Valor matricula.1', 'Saldo Pre', 'source_file',\n",
              "       'Unnamed: 78'],\n",
              "      dtype='object')"
            ]
          },
          "metadata": {},
          "execution_count": 7
        }
      ]
    },
    {
      "cell_type": "markdown",
      "source": [
        "### Filtrado de datos y columnas de utilidad"
      ],
      "metadata": {
        "id": "vB05ZxH-5kFd"
      }
    },
    {
      "cell_type": "markdown",
      "source": [
        "Para trabajar más eficientemente sobre las columnas que realmente aportan a nuestro análisis, primero aseguremonos de que los registros empleados son los adecuados."
      ],
      "metadata": {
        "id": "R-TBEziZ5yfi"
      }
    },
    {
      "cell_type": "markdown",
      "source": [
        "En primer lugar, sólo necesitamos aquellos registros de estudiantes que han sido admitidos, por lo que filtremos nuestros datos:"
      ],
      "metadata": {
        "id": "xq0TsEYn6ySn"
      }
    },
    {
      "cell_type": "code",
      "source": [
        "df = df[df['Admitido'] == 'Sí']"
      ],
      "metadata": {
        "id": "FLm-FAdzXT4V"
      },
      "execution_count": null,
      "outputs": []
    },
    {
      "cell_type": "code",
      "source": [
        "df.shape"
      ],
      "metadata": {
        "colab": {
          "base_uri": "https://localhost:8080/"
        },
        "id": "zegy-QsNYITc",
        "outputId": "9ac5b4e4-fb8b-4fbc-c5e4-dd3363e6f053"
      },
      "execution_count": null,
      "outputs": [
        {
          "output_type": "execute_result",
          "data": {
            "text/plain": [
              "(15765, 79)"
            ]
          },
          "metadata": {},
          "execution_count": 9
        }
      ]
    },
    {
      "cell_type": "markdown",
      "source": [
        "De los 16676 iniciales, encontramos 13167 registros de estudiantes que fueron admitidos. Eso significa que se eliminaron 3509 registros de estudiantes no admitidos.\n"
      ],
      "metadata": {
        "id": "wiH8ZDpq7z9R"
      }
    },
    {
      "cell_type": "markdown",
      "source": [
        "Procedamos ahora a verificar el tipo de dato y los faltantes de cada fila."
      ],
      "metadata": {
        "id": "F68xiHC4-tFE"
      }
    },
    {
      "cell_type": "code",
      "source": [
        "df.info()"
      ],
      "metadata": {
        "id": "fhRIUEDThC0B",
        "colab": {
          "base_uri": "https://localhost:8080/"
        },
        "outputId": "414c0af5-0c34-4d0b-d4ce-905101d6e328"
      },
      "execution_count": null,
      "outputs": [
        {
          "output_type": "stream",
          "name": "stdout",
          "text": [
            "<class 'pandas.core.frame.DataFrame'>\n",
            "Index: 15765 entries, 0 to 20153\n",
            "Data columns (total 79 columns):\n",
            " #   Column                        Non-Null Count  Dtype  \n",
            "---  ------                        --------------  -----  \n",
            " 0   Periodo Admisión              15704 non-null  float64\n",
            " 1   Fecha Inscripción             15765 non-null  object \n",
            " 2   Fecha solicitud completada    11500 non-null  object \n",
            " 3   Programa                      15765 non-null  object \n",
            " 4   Tipo ID                       15607 non-null  object \n",
            " 5   Fecha Nacimiento              15763 non-null  object \n",
            " 6   Puntaje Icfes                 14362 non-null  object \n",
            " 7   Fecha Icfes                   14442 non-null  object \n",
            " 8   Puesto Icfes                  226 non-null    object \n",
            " 9   Código Colegio                15287 non-null  object \n",
            " 10  Nombre Colegio                15246 non-null  object \n",
            " 11  Ciudad Colegio                15218 non-null  object \n",
            " 12  Categoría                     13503 non-null  object \n",
            " 13  Calendario                    12900 non-null  object \n",
            " 14  Naturaleza                    14274 non-null  object \n",
            " 15  Clasificación                 12975 non-null  object \n",
            " 16  Población                     12181 non-null  object \n",
            " 17  Jornada                       13085 non-null  object \n",
            " 18  Estrato                       15375 non-null  object \n",
            " 19  Edad Aproximada               15763 non-null  object \n",
            " 20  Género                        15763 non-null  object \n",
            " 21  Ciudad Residencia             15717 non-null  object \n",
            " 22  Ciudad Nacimiento             15255 non-null  object \n",
            " 23  Reserva Cupo Anterior         15765 non-null  object \n",
            " 24  Reserva Cupo Actual           15765 non-null  object \n",
            " 25  Fecha Reserva Cupo            1205 non-null   object \n",
            " 26  Posible Reserva               15765 non-null  object \n",
            " 27  No Toma Cupo                  15765 non-null  object \n",
            " 28  Icetex Aprobado               15765 non-null  object \n",
            " 29  Icetex Estudio                15765 non-null  object \n",
            " 30  Admitido                      15765 non-null  object \n",
            " 31  Fecha Admisión                14590 non-null  object \n",
            " 32  Fecha no Admisión             1 non-null      object \n",
            " 33  Fecha Entrevista              4134 non-null   object \n",
            " 34  Resultado Entrevista          3613 non-null   object \n",
            " 35  Decisión Pendiente            5229 non-null   object \n",
            " 36  Fecha Comentarios             5239 non-null   object \n",
            " 37  Comentarios Antiguos          7969 non-null   object \n",
            " 38  Fecha Comentarios Antiguos    8442 non-null   object \n",
            " 39  Matrícula                     15765 non-null  object \n",
            " 40  Fecha Límite                  12003 non-null  object \n",
            " 41  Beca Gobierno                 15765 non-null  object \n",
            " 42  Beca Icesos Acces             15765 non-null  object \n",
            " 43  Beca Excelencia               15765 non-null  object \n",
            " 44  Otra Beca                     8170 non-null   object \n",
            " 45  Matemáticas                   13883 non-null  float64\n",
            " 46  Lectura Crítica               13752 non-null  float64\n",
            " 47  Sociales Ciudadanas           13603 non-null  float64\n",
            " 48  Naturales                     13749 non-null  object \n",
            " 49  Inglés                        12573 non-null  float64\n",
            " 50  Razonamiento Cuantitativo     91 non-null     object \n",
            " 51  Competencias Ciudadanas       114 non-null    object \n",
            " 52  DEBE VER ICARO                15765 non-null  object \n",
            " 53  Matriculado Ícaro             15765 non-null  object \n",
            " 54  Debe ver Papiro               15765 non-null  object \n",
            " 55  Matriculado Papiro            15765 non-null  object \n",
            " 56  Debe ver PROBO                15131 non-null  object \n",
            " 57  Matriculado PROBO             15765 non-null  object \n",
            " 58  Transferencia                 15765 non-null  object \n",
            " 59  Intercambio                   15765 non-null  object \n",
            " 60  EPS                           14653 non-null  object \n",
            " 61  Grupo Sanguíneo               14675 non-null  object \n",
            " 62  Religión                      15765 non-null  object \n",
            " 63  Pilo Problema 2018            15765 non-null  object \n",
            " 64  Prueba Sigma                  0 non-null      float64\n",
            " 65  Encuesta caracterización      15765 non-null  object \n",
            " 66  Calificación Normalizada MED  0 non-null      float64\n",
            " 67  Valor beca                    15765 non-null  float64\n",
            " 68  Tipo beca                     7721 non-null   object \n",
            " 69  Créditos U                    1956 non-null   object \n",
            " 70  Valor Icetex                  15765 non-null  float64\n",
            " 71  Valor matricula               15296 non-null  float64\n",
            " 72  Valor procultura              15296 non-null  float64\n",
            " 73  Créditos U (PCR)              15349 non-null  float64\n",
            " 74  Fecha pago matricula          10061 non-null  object \n",
            " 75  Valor matricula.1             15765 non-null  float64\n",
            " 76  Saldo Pre                     15765 non-null  float64\n",
            " 77  source_file                   15765 non-null  object \n",
            " 78  Unnamed: 78                   3560 non-null   float64\n",
            "dtypes: float64(15), object(64)\n",
            "memory usage: 9.6+ MB\n"
          ]
        }
      ]
    },
    {
      "cell_type": "markdown",
      "source": [
        "Encontramos un par de filas sin registros, procederemos a eliminarla"
      ],
      "metadata": {
        "id": "YLVxtP2H_DNs"
      }
    },
    {
      "cell_type": "code",
      "source": [
        "df.drop(['Prueba Sigma', 'Calificación Normalizada MED', 'Fecha no Admisión'], axis=1, inplace=True)"
      ],
      "metadata": {
        "id": "uT9xftmVdWMo"
      },
      "execution_count": null,
      "outputs": []
    },
    {
      "cell_type": "markdown",
      "source": [
        "## Análisis univariado"
      ],
      "metadata": {
        "id": "L-RkirhgxIPg"
      }
    },
    {
      "cell_type": "markdown",
      "source": [
        "### Variable Puntaje Icfes"
      ],
      "metadata": {
        "id": "ugUQEI_ax2eQ"
      }
    },
    {
      "cell_type": "markdown",
      "source": [
        "Relevancia de la variable 'Puntaje Icfes' en el contexto de predecir la elección de facultad:\n",
        "\n",
        "El 'Puntaje Icfes' es altamente relevante en este proyecto teniendo en cuenta que el objetivo es predecir la elección de facultad basándose en datos académicos y demográficos, pues esta es una de las métricas más importantes disponibles en el conjunto de datos y un indicador clave del rendimiento académico previo del estudiante.\n",
        "\n",
        "Veamos ahora cada punto clave de por qué el puntaje Icfes puede ser una variable de relevancia (predicción de elección de facultad):\n",
        "\n",
        "* Poder predictivo: Es muy probable que el 'Puntaje Icfes' sea una variable con\n",
        "un poder predictivo significativo para la elección de facultad, ya que algunas facultades o programas pueden atraer a estudiantes con puntajes ICFES más altos debido a la percepción de rigor académico o requisitos de admisión más exigentes, como por ejemplo, las facultades de Ingenierías o Ciencias de la Salud tienen una mayor proporción de estudiantes con puntajes elevados en comparación con otras facultades.\n",
        "\n",
        "* Segmentación de estudiantes: El análisis del 'Puntaje Icfes' en relación con la elección de facultad puede ayudar a identificar patrones y segmentos de estudiantes, siendo esto valioso para \"mejorar la planificación académica\" y \"diseñar campañas de mercadeo más efectivas\", como se ha mencionado en la justificación del proyecto. Si se identifica que estudiantes con ciertos rangos de puntaje ICFES tienden a elegir facultades específicas, la universidad puede dirigir sus esfuerzos de divulgación y marketing de manera más eficiente.\n",
        "\n",
        "* Identificación de tendencias a lo largo del tiempo: Al tener datos de 2018 a 2024, se puede analizar si la relación entre el 'Puntaje Icfes' y la elección de facultad ha cambiado con el tiempo y esto es relevante para la \"captación y retención de estudiantes\" mencionada en el objetivo, ya que las tendencias en los puntajes de los estudiantes que eligen ciertas facultades pueden informar las estrategias de reclutamiento y adaptación de programas a lo largo de los años.\n",
        "\n",
        "* Base para modelos de clasificación: Como se indica en la justificación, se planean construir modelos de clasificación predictivos, y el 'Puntaje Icfes' será una característica fundamental en estos modelos para predecir a qué facultad es más probable que se inscriba un estudiante.\n",
        "\n",
        "\n",
        "En conclusión, la variable 'Puntaje Icfes' es esencial para lograr el objetivo de predecir la elección de facultad, ya que proporciona información académica clave que probablemente influye en esta decisión y permite segmentar a los estudiantes para mejorar las estrategias de la universidad en cuanto a planificación, marketing e Identificación de tendencias a lo largo del tiempo."
      ],
      "metadata": {
        "id": "DtnAj_LhyC16"
      }
    },
    {
      "cell_type": "markdown",
      "source": [
        "Iniciemos obteniendo la estadística descriptiva de la variable de interés:"
      ],
      "metadata": {
        "id": "KgduErdp_0vp"
      }
    },
    {
      "cell_type": "code",
      "source": [
        "df['Puntaje Icfes'].describe()"
      ],
      "metadata": {
        "colab": {
          "base_uri": "https://localhost:8080/",
          "height": 210
        },
        "id": "FMqinzUC-vw4",
        "outputId": "1e3ed7b6-f4cf-4ea0-f99b-647f6838372e"
      },
      "execution_count": null,
      "outputs": [
        {
          "output_type": "execute_result",
          "data": {
            "text/plain": [
              "count     14362\n",
              "unique      447\n",
              "top       350.0\n",
              "freq        199\n",
              "Name: Puntaje Icfes, dtype: object"
            ],
            "text/html": [
              "<div>\n",
              "<style scoped>\n",
              "    .dataframe tbody tr th:only-of-type {\n",
              "        vertical-align: middle;\n",
              "    }\n",
              "\n",
              "    .dataframe tbody tr th {\n",
              "        vertical-align: top;\n",
              "    }\n",
              "\n",
              "    .dataframe thead th {\n",
              "        text-align: right;\n",
              "    }\n",
              "</style>\n",
              "<table border=\"1\" class=\"dataframe\">\n",
              "  <thead>\n",
              "    <tr style=\"text-align: right;\">\n",
              "      <th></th>\n",
              "      <th>Puntaje Icfes</th>\n",
              "    </tr>\n",
              "  </thead>\n",
              "  <tbody>\n",
              "    <tr>\n",
              "      <th>count</th>\n",
              "      <td>14362</td>\n",
              "    </tr>\n",
              "    <tr>\n",
              "      <th>unique</th>\n",
              "      <td>447</td>\n",
              "    </tr>\n",
              "    <tr>\n",
              "      <th>top</th>\n",
              "      <td>350.0</td>\n",
              "    </tr>\n",
              "    <tr>\n",
              "      <th>freq</th>\n",
              "      <td>199</td>\n",
              "    </tr>\n",
              "  </tbody>\n",
              "</table>\n",
              "</div><br><label><b>dtype:</b> object</label>"
            ]
          },
          "metadata": {},
          "execution_count": 12
        }
      ]
    },
    {
      "cell_type": "markdown",
      "source": [
        "A simple vista encontramos algunos valores con poco sentido, cómo lo son puntajes de 999 o 0 en estas pruebas, visualicemoslo mejor desde un diagrama de cajas y un histograma."
      ],
      "metadata": {
        "id": "OuM4cFam_6tD"
      }
    },
    {
      "cell_type": "code",
      "source": [
        "df['Puntaje Icfes'].isnull().sum()"
      ],
      "metadata": {
        "colab": {
          "base_uri": "https://localhost:8080/"
        },
        "id": "MyZezDFzc9eZ",
        "outputId": "305f884e-437a-4c39-efd6-88366081b85d"
      },
      "execution_count": null,
      "outputs": [
        {
          "output_type": "execute_result",
          "data": {
            "text/plain": [
              "np.int64(1403)"
            ]
          },
          "metadata": {},
          "execution_count": 13
        }
      ]
    },
    {
      "cell_type": "markdown",
      "source": [
        "También se debe tener en cuenta que existen varios valores faltanes, posteriormente se deberá verificar la razón de estos faltantes. Algunas hipótesis para esta cantidad son la pandemia (Donde no se presentaron este tipo de pruebas), estudiantes extranjeros y estudiantes con icfes muy antiguos (Cuya escala de valores no coincide con el actual)."
      ],
      "metadata": {
        "id": "89oXt0K8c3OM"
      }
    },
    {
      "cell_type": "code",
      "source": [
        "col_icfes = \"Puntaje Icfes\"\n",
        "\n",
        "# normaliza el texto y convierte a numérico\n",
        "s = (\n",
        "    df[col_icfes]\n",
        "      .astype(str)\n",
        "      .str.strip()\n",
        "      .str.replace(\",\", \".\", regex=False)         # decimales con coma → punto\n",
        "      .str.replace(r\"[^0-9.\\-]\", \"\", regex=True)  # quita símbolos/texteo\n",
        ")\n",
        "\n",
        "df[col_icfes] = pd.to_numeric(s, errors=\"coerce\")\n",
        "df[col_icfes].dtype  # debería mostrar float64\n"
      ],
      "metadata": {
        "colab": {
          "base_uri": "https://localhost:8080/"
        },
        "id": "hQ0h44Gk-53v",
        "outputId": "a6f3b703-e312-4d52-fbc6-d65e2d89e8c4"
      },
      "execution_count": null,
      "outputs": [
        {
          "output_type": "execute_result",
          "data": {
            "text/plain": [
              "dtype('float64')"
            ]
          },
          "metadata": {},
          "execution_count": 21
        }
      ]
    },
    {
      "cell_type": "code",
      "source": [
        "# ICFES va de 0 a 500; fuera de rango → NaN para no dañar análisis/gráfico\n",
        "df.loc[~df[col_icfes].between(0, 500), col_icfes] = np.nan\n",
        "\n",
        "# chequeos rápidos\n",
        "n_null = df[col_icfes].isna().sum()\n",
        "n_out = (~s.isna() & ~df[col_icfes].between(0, 500)).sum()  # si quieres ver cuántos se fueron por rango\n",
        "n_null, n_out\n"
      ],
      "metadata": {
        "colab": {
          "base_uri": "https://localhost:8080/"
        },
        "id": "EP3xxYaU7Wjc",
        "outputId": "6852e355-b362-4d11-d103-a23c3dfa3521"
      },
      "execution_count": null,
      "outputs": [
        {
          "output_type": "execute_result",
          "data": {
            "text/plain": [
              "(np.int64(1406), np.int64(1406))"
            ]
          },
          "metadata": {},
          "execution_count": 22
        }
      ]
    },
    {
      "cell_type": "code",
      "source": [
        "df['Puntaje Icfes'].plot(kind='hist', bins=12)"
      ],
      "metadata": {
        "colab": {
          "base_uri": "https://localhost:8080/",
          "height": 447
        },
        "id": "JOvMi1oh_XIR",
        "outputId": "bec7977f-69a4-49d5-a008-0db691066b69"
      },
      "execution_count": null,
      "outputs": [
        {
          "output_type": "execute_result",
          "data": {
            "text/plain": [
              "<Axes: ylabel='Frequency'>"
            ]
          },
          "metadata": {},
          "execution_count": 23
        },
        {
          "output_type": "display_data",
          "data": {
            "text/plain": [
              "<Figure size 640x480 with 1 Axes>"
            ],
            "image/png": "[encoded data removed]"
          },
          "metadata": {}
        }
      ]
    },
    {
      "cell_type": "markdown",
      "source": [
        "Ahora verifiquemos los registros que presentan valores mayores a 500."
      ],
      "metadata": {
        "id": "j-ZyRFDFAlYk"
      }
    },
    {
      "cell_type": "code",
      "source": [
        "print(df[df['Puntaje Icfes'] > 500])"
      ],
      "metadata": {
        "colab": {
          "base_uri": "https://localhost:8080/"
        },
        "id": "9jebprth_Pft",
        "outputId": "90087aa8-372c-4a8f-e8ed-7063234401ff"
      },
      "execution_count": null,
      "outputs": [
        {
          "output_type": "stream",
          "name": "stdout",
          "text": [
            "Empty DataFrame\n",
            "Columns: [Periodo Admisión, Fecha Inscripción, Fecha solicitud completada, Programa, Tipo ID, Fecha Nacimiento, Puntaje Icfes, Fecha Icfes, Puesto Icfes, Código Colegio, Nombre Colegio, Ciudad Colegio, Categoría, Calendario, Naturaleza, Clasificación, Población, Jornada, Estrato, Edad Aproximada, Género, Ciudad Residencia, Ciudad Nacimiento, Reserva Cupo Anterior, Reserva Cupo Actual, Fecha Reserva Cupo, Posible Reserva, No Toma Cupo, Icetex Aprobado, Icetex Estudio, Admitido, Fecha Admisión, Fecha Entrevista, Resultado Entrevista, Decisión Pendiente, Fecha Comentarios, Comentarios Antiguos, Fecha Comentarios Antiguos, Matrícula, Fecha Límite, Beca Gobierno, Beca Icesos Acces, Beca Excelencia, Otra Beca, Matemáticas, Lectura Crítica, Sociales Ciudadanas, Naturales, Inglés, Razonamiento Cuantitativo, Competencias Ciudadanas, DEBE VER ICARO, Matriculado Ícaro, Debe ver Papiro, Matriculado Papiro, Debe ver PROBO, Matriculado PROBO, Transferencia, Intercambio, EPS, Grupo Sanguíneo, Religión, Pilo Problema 2018, Encuesta caracterización, Valor beca, Tipo beca, Créditos U, Valor Icetex, Valor matricula, Valor procultura, Créditos U (PCR), Fecha pago matricula, Valor matricula.1, Saldo Pre, source_file, Unnamed: 78]\n",
            "Index: []\n",
            "\n",
            "[0 rows x 76 columns]\n"
          ]
        }
      ]
    },
    {
      "cell_type": "markdown",
      "source": [
        "de la misma forma, verifiquemos los registros que presentan valores de 0."
      ],
      "metadata": {
        "id": "0b4hXZUVBLOi"
      }
    },
    {
      "cell_type": "code",
      "source": [
        "print(df[df['Puntaje Icfes'] == 0])"
      ],
      "metadata": {
        "colab": {
          "base_uri": "https://localhost:8080/"
        },
        "id": "7FlR2aAuAZrj",
        "outputId": "ee4698c5-5f94-4921-d283-874c5413de52"
      },
      "execution_count": null,
      "outputs": [
        {
          "output_type": "stream",
          "name": "stdout",
          "text": [
            "      Periodo Admisión Fecha Inscripción Fecha solicitud completada Programa  \\\n",
            "1624          201820.0        23/05/2018                 22/05/2018      ANT   \n",
            "\n",
            "     Tipo ID Fecha Nacimiento  Puntaje Icfes Fecha Icfes Puesto Icfes  \\\n",
            "1624      CC        9/08/1982            0.0  19/08/2000        100.0   \n",
            "\n",
            "     Código Colegio  ...                                         Créditos U  \\\n",
            "1624         C01338  ...  CCR - Cargo Plan de pagos - Credito Icesi, PCR...   \n",
            "\n",
            "     Valor Icetex Valor matricula Valor procultura Créditos U (PCR)  \\\n",
            "1624          0.0       6890000.0         103350.0              0.0   \n",
            "\n",
            "     Fecha pago matricula Valor matricula.1 Saldo Pre  \\\n",
            "1624           14/06/2018         6993350.0       0.0   \n",
            "\n",
            "                  source_file Unnamed: 78  \n",
            "1624  201820 - 12-02-2025.csv         NaN  \n",
            "\n",
            "[1 rows x 76 columns]\n"
          ]
        }
      ]
    },
    {
      "cell_type": "markdown",
      "source": [
        "Observamos que son sólo 3 casos aislados, por lo que se procederá con la eliminaciónd de estos registros."
      ],
      "metadata": {
        "id": "_YSBeL1OBP0l"
      }
    },
    {
      "cell_type": "code",
      "source": [
        "#indices = df[(df['Puntaje Icfes'] > 500)].index\n",
        "#df.drop(indices, inplace=True)\n",
        "#indices = df[df['Puntaje Icfes'] == 0].index\n",
        "#df.drop(indices, inplace=True)\n",
        "\n",
        "# Forma compacta de hacer el calculo\n",
        "df = df[df['Puntaje Icfes'].between(1, 500)]"
      ],
      "metadata": {
        "id": "O0dHEzAZAErw"
      },
      "execution_count": null,
      "outputs": []
    },
    {
      "cell_type": "markdown",
      "source": [
        "Ahora volvamos a analizar esta variable sin aquellos registros extraños."
      ],
      "metadata": {
        "id": "imZB1UjOBX81"
      }
    },
    {
      "cell_type": "code",
      "source": [
        "df['Puntaje Icfes'].describe()"
      ],
      "metadata": {
        "colab": {
          "base_uri": "https://localhost:8080/",
          "height": 335
        },
        "id": "yuXPORf6BjKH",
        "outputId": "2cc3c6e4-ad0b-46e7-b23c-396fe8ca8280"
      },
      "execution_count": null,
      "outputs": [
        {
          "output_type": "execute_result",
          "data": {
            "text/plain": [
              "count    14358.000000\n",
              "mean       338.117844\n",
              "std         38.190384\n",
              "min        198.000000\n",
              "25%        313.000000\n",
              "50%        340.000000\n",
              "75%        364.000000\n",
              "max        500.000000\n",
              "Name: Puntaje Icfes, dtype: float64"
            ],
            "text/html": [
              "<div>\n",
              "<style scoped>\n",
              "    .dataframe tbody tr th:only-of-type {\n",
              "        vertical-align: middle;\n",
              "    }\n",
              "\n",
              "    .dataframe tbody tr th {\n",
              "        vertical-align: top;\n",
              "    }\n",
              "\n",
              "    .dataframe thead th {\n",
              "        text-align: right;\n",
              "    }\n",
              "</style>\n",
              "<table border=\"1\" class=\"dataframe\">\n",
              "  <thead>\n",
              "    <tr style=\"text-align: right;\">\n",
              "      <th></th>\n",
              "      <th>Puntaje Icfes</th>\n",
              "    </tr>\n",
              "  </thead>\n",
              "  <tbody>\n",
              "    <tr>\n",
              "      <th>count</th>\n",
              "      <td>14358.000000</td>\n",
              "    </tr>\n",
              "    <tr>\n",
              "      <th>mean</th>\n",
              "      <td>338.117844</td>\n",
              "    </tr>\n",
              "    <tr>\n",
              "      <th>std</th>\n",
              "      <td>38.190384</td>\n",
              "    </tr>\n",
              "    <tr>\n",
              "      <th>min</th>\n",
              "      <td>198.000000</td>\n",
              "    </tr>\n",
              "    <tr>\n",
              "      <th>25%</th>\n",
              "      <td>313.000000</td>\n",
              "    </tr>\n",
              "    <tr>\n",
              "      <th>50%</th>\n",
              "      <td>340.000000</td>\n",
              "    </tr>\n",
              "    <tr>\n",
              "      <th>75%</th>\n",
              "      <td>364.000000</td>\n",
              "    </tr>\n",
              "    <tr>\n",
              "      <th>max</th>\n",
              "      <td>500.000000</td>\n",
              "    </tr>\n",
              "  </tbody>\n",
              "</table>\n",
              "</div><br><label><b>dtype:</b> float64</label>"
            ]
          },
          "metadata": {},
          "execution_count": 27
        }
      ]
    },
    {
      "cell_type": "markdown",
      "source": [
        "Tras depurar valores fuera de rango (>*500) y ceros, la variable Puntaje Icfes queda con 14.538 observaciones. El promedio es 338.17 con desviación estándar de 38.19. El mínimo observado es 198 y el máximo es 500, valor que coincide con el tope de la escala y sugiere un techo/cap en algunos registros. La mediana es 340, y el 50% central de los datos (IQR) se ubica entre 313 (Q1) y 364 (Q3)."
      ],
      "metadata": {
        "id": "ilU7Ld6BDW8l"
      }
    },
    {
      "cell_type": "markdown",
      "source": [
        "Volvamos a obtener los gráficos de caja y el histograma de la variable."
      ],
      "metadata": {
        "id": "ydq90LU4WtpH"
      }
    },
    {
      "cell_type": "code",
      "source": [
        "df['Puntaje Icfes'].plot(kind='box')"
      ],
      "metadata": {
        "colab": {
          "base_uri": "https://localhost:8080/",
          "height": 447
        },
        "id": "VLdzjztRAK1_",
        "outputId": "914be551-12a4-43f9-87c6-dffd9c247533"
      },
      "execution_count": null,
      "outputs": [
        {
          "output_type": "execute_result",
          "data": {
            "text/plain": [
              "<Axes: >"
            ]
          },
          "metadata": {},
          "execution_count": 29
        },
        {
          "output_type": "display_data",
          "data": {
            "text/plain": [
              "<Figure size 640x480 with 1 Axes>"
            ],
            "image/png": "[encoded data removed]"
          },
          "metadata": {}
        }
      ]
    },
    {
      "cell_type": "code",
      "source": [
        "# Calcular Q1, Q3 e IQR\n",
        "Q1 = df[\"Puntaje Icfes\"].quantile(0.25)\n",
        "Q3 = df[\"Puntaje Icfes\"].quantile(0.75)\n",
        "IQR = Q3 - Q1\n",
        "\n",
        "# Límites del boxplot\n",
        "limite_inferior = Q1 - 1.5 * IQR\n",
        "limite_superior = Q3 + 1.5 * IQR\n",
        "\n",
        "# Contar outliers\n",
        "outliers_inf = (df[\"Puntaje Icfes\"] < limite_inferior).sum()\n",
        "outliers_sup = (df[\"Puntaje Icfes\"] > limite_superior).sum()\n",
        "outliers_total = outliers_inf + outliers_sup\n",
        "\n",
        "print(\"Límite inferior:\", limite_inferior)\n",
        "print(\"Límite superior:\", limite_superior)\n",
        "print(\"Outliers por debajo del límite inferior:\", outliers_inf)\n",
        "print(\"Outliers por encima del límite superior:\", outliers_sup)\n",
        "print(\"Total de outliers:\", outliers_total)"
      ],
      "metadata": {
        "colab": {
          "base_uri": "https://localhost:8080/"
        },
        "id": "tZWxURXcehU5",
        "outputId": "ec2d5e71-8997-4621-b9b6-af2faaadd4f5"
      },
      "execution_count": null,
      "outputs": [
        {
          "output_type": "stream",
          "name": "stdout",
          "text": [
            "Límite inferior: 236.5\n",
            "Límite superior: 440.5\n",
            "Outliers por debajo del límite inferior: 28\n",
            "Outliers por encima del límite superior: 67\n",
            "Total de outliers: 95\n"
          ]
        }
      ]
    },
    {
      "cell_type": "markdown",
      "source": [
        "A partir del criterio de 1.5·IQR, se identificaron 95 observaciones atípicas (≈0.65% del total de 14,538 registros). De estas, 28 se ubican por debajo del límite inferior (<236.5) y 67 por encima del límite superior (>440.5).\n",
        "\n",
        "Valores superiores: se encuentran en el rango alto de la escala (hasta 500). Son plausibles y no constituyen un error, ya que reflejan desempeños sobresalientes que incluso suelen ser incentivados por la universidad en sus procesos de admisión.\n",
        "\n",
        "Valores inferiores: aunque factibles (mínimo observado tras depuración: 198), ameritan una revisión más detallada. Es recomendable analizar si corresponden a periodos específicos, cohortes antiguas, estudiantes extranjeros o posibles errores de digitación.\n",
        "\n",
        "En conclusión, los outliers altos son naturales y esperables, mientras que los bajos requieren un análisis contextual para determinar si responden a condiciones académicas reales o a inconsistencias en el registro."
      ],
      "metadata": {
        "id": "y6Dc05GMRAKw"
      }
    },
    {
      "cell_type": "code",
      "source": [
        "df['Puntaje Icfes'].plot(kind='hist', bins=12)"
      ],
      "metadata": {
        "colab": {
          "base_uri": "https://localhost:8080/",
          "height": 448
        },
        "id": "jo2flW9zAPAX",
        "outputId": "04afc5d0-8e2e-46a8-89e2-07fdaf0ca9bb"
      },
      "execution_count": null,
      "outputs": [
        {
          "output_type": "execute_result",
          "data": {
            "text/plain": [
              "<Axes: ylabel='Frequency'>"
            ]
          },
          "metadata": {},
          "execution_count": 31
        },
        {
          "output_type": "display_data",
          "data": {
            "text/plain": [
              "<Figure size 640x480 with 1 Axes>"
            ],
            "image/png": "[encoded data removed]"
          },
          "metadata": {}
        }
      ]
    },
    {
      "cell_type": "markdown",
      "source": [
        "Podemos visualizar en este histograma una distribución muy similar a la normal, lo cuál es un comportamient esperado en la variable."
      ],
      "metadata": {
        "id": "wlbuUGp2XG1f"
      }
    },
    {
      "cell_type": "markdown",
      "source": [
        "**Conclusiones y observaciones respecto al análisis univariado de \"Puntaje Icfes\":**\n",
        "\n",
        "*\tLa mitad de los estudiantes se encuentra dentro del rango comprendido entre 312 y 364 puntos.\n",
        "*\tSe detectaron valores atípicos irreales como 0, 504 y 999, que fueron depurados del dataset para no distorsionar los resultados.\n",
        "* Existen un total de 61 otros valores atípicos para los cuáles se deberá definir si existirá algún tratamiento y justificación para ellos.\n",
        "*\tLa distribución de la variable se acerca a la normalidad.\n",
        "* Se deberá hacer un tratamiento para los 1225 registros con nulos en \"Puntaje Icfes\".\n",
        "\n",
        "También consideremos las posibilidades de análisis relacionando otras variables. Por ejemplo, sería significativo verificar el comportamiento de esta variable con respecto al periodo de ingreso, edad, facultad (variable target) y entre otras."
      ],
      "metadata": {
        "id": "D8u1ig3Ha5BU"
      }
    },
    {
      "cell_type": "markdown",
      "source": [
        "### Todas las demás variables"
      ],
      "metadata": {
        "id": "OKVbtjlxzcE5"
      }
    },
    {
      "cell_type": "code",
      "source": [
        "df.describe()"
      ],
      "metadata": {
        "colab": {
          "base_uri": "https://localhost:8080/",
          "height": 338
        },
        "id": "zVoeNO55hGuJ",
        "outputId": "2917d4eb-ef0f-46b4-9b16-d0b590d8cad9"
      },
      "execution_count": null,
      "outputs": [
        {
          "output_type": "execute_result",
          "data": {
            "text/plain": [
              "       Periodo Admisión  Puntaje Icfes   Matemáticas  Lectura Crítica  \\\n",
              "count      14301.000000   14358.000000  13782.000000     13746.000000   \n",
              "mean      202199.766730     338.117844     68.427949        67.476502   \n",
              "std          238.701524      38.190384     11.253019         9.259411   \n",
              "min       201420.000000     198.000000      0.000000         0.000000   \n",
              "25%       202010.000000     313.000000     62.000000        63.000000   \n",
              "50%       202220.000000     340.000000     69.000000        68.000000   \n",
              "75%       202410.000000     364.000000     75.000000        73.000000   \n",
              "max       202610.000000     500.000000    100.000000       100.000000   \n",
              "\n",
              "       Sociales Ciudadanas        Inglés    Valor beca  Valor Icetex  \\\n",
              "count         13596.000000  12493.000000  1.435800e+04  1.435800e+04   \n",
              "mean             66.104442     71.976547  5.818850e+05  1.613549e+07   \n",
              "std              10.528057     11.976710  1.961104e+06  3.549427e+07   \n",
              "min               0.000000      0.000000  0.000000e+00  0.000000e+00   \n",
              "25%              61.000000     65.000000  0.000000e+00  0.000000e+00   \n",
              "50%              67.000000     73.000000  0.000000e+00  0.000000e+00   \n",
              "75%              72.000000     80.000000  0.000000e+00  0.000000e+00   \n",
              "max             100.000000    100.000000  2.541000e+07  2.881300e+08   \n",
              "\n",
              "       Valor matricula  Valor procultura  Créditos U (PCR)  Valor matricula.1  \\\n",
              "count     1.418200e+04      1.418200e+04      1.421500e+04       1.435800e+04   \n",
              "mean      7.714894e+06      1.179281e+05      4.739187e+05       7.736525e+06   \n",
              "std       6.576629e+06      1.062911e+05      2.020816e+06       6.692978e+06   \n",
              "min       0.000000e+00      0.000000e+00      0.000000e+00       0.000000e+00   \n",
              "25%       0.000000e+00      0.000000e+00      0.000000e+00       0.000000e+00   \n",
              "50%       9.130000e+06      1.369500e+05      0.000000e+00       9.241575e+06   \n",
              "75%       1.157000e+07      1.735500e+05      0.000000e+00       1.174355e+07   \n",
              "max       2.541000e+07      1.148438e+06      2.541000e+07       2.655844e+07   \n",
              "\n",
              "          Saldo Pre    Unnamed: 78  \n",
              "count  1.435800e+04    3391.000000  \n",
              "mean   1.448356e+04   49147.480094  \n",
              "std    5.067614e+05   37510.509628  \n",
              "min   -1.052555e+07    1991.000000  \n",
              "25%    0.000000e+00    9451.000000  \n",
              "50%    0.000000e+00   53512.000000  \n",
              "75%    0.000000e+00   54533.000000  \n",
              "max    2.579115e+07  117734.000000  "
            ],
            "text/html": [
              "\n",
              "  <div id=\"df-4bf3258e-a6a5-4dad-8d7a-d5ff144e76a8\" class=\"colab-df-container\">\n",
              "    <div>\n",
              "<style scoped>\n",
              "    .dataframe tbody tr th:only-of-type {\n",
              "        vertical-align: middle;\n",
              "    }\n",
              "\n",
              "    .dataframe tbody tr th {\n",
              "        vertical-align: top;\n",
              "    }\n",
              "\n",
              "    .dataframe thead th {\n",
              "        text-align: right;\n",
              "    }\n",
              "</style>\n",
              "<table border=\"1\" class=\"dataframe\">\n",
              "  <thead>\n",
              "    <tr style=\"text-align: right;\">\n",
              "      <th></th>\n",
              "      <th>Periodo Admisión</th>\n",
              "      <th>Puntaje Icfes</th>\n",
              "      <th>Matemáticas</th>\n",
              "      <th>Lectura Crítica</th>\n",
              "      <th>Sociales Ciudadanas</th>\n",
              "      <th>Inglés</th>\n",
              "      <th>Valor beca</th>\n",
              "      <th>Valor Icetex</th>\n",
              "      <th>Valor matricula</th>\n",
              "      <th>Valor procultura</th>\n",
              "      <th>Créditos U (PCR)</th>\n",
              "      <th>Valor matricula.1</th>\n",
              "      <th>Saldo Pre</th>\n",
              "      <th>Unnamed: 78</th>\n",
              "    </tr>\n",
              "  </thead>\n",
              "  <tbody>\n",
              "    <tr>\n",
              "      <th>count</th>\n",
              "      <td>14301.000000</td>\n",
              "      <td>14358.000000</td>\n",
              "      <td>13782.000000</td>\n",
              "      <td>13746.000000</td>\n",
              "      <td>13596.000000</td>\n",
              "      <td>12493.000000</td>\n",
              "      <td>1.435800e+04</td>\n",
              "      <td>1.435800e+04</td>\n",
              "      <td>1.418200e+04</td>\n",
              "      <td>1.418200e+04</td>\n",
              "      <td>1.421500e+04</td>\n",
              "      <td>1.435800e+04</td>\n",
              "      <td>1.435800e+04</td>\n",
              "      <td>3391.000000</td>\n",
              "    </tr>\n",
              "    <tr>\n",
              "      <th>mean</th>\n",
              "      <td>202199.766730</td>\n",
              "      <td>338.117844</td>\n",
              "      <td>68.427949</td>\n",
              "      <td>67.476502</td>\n",
              "      <td>66.104442</td>\n",
              "      <td>71.976547</td>\n",
              "      <td>5.818850e+05</td>\n",
              "      <td>1.613549e+07</td>\n",
              "      <td>7.714894e+06</td>\n",
              "      <td>1.179281e+05</td>\n",
              "      <td>4.739187e+05</td>\n",
              "      <td>7.736525e+06</td>\n",
              "      <td>1.448356e+04</td>\n",
              "      <td>49147.480094</td>\n",
              "    </tr>\n",
              "    <tr>\n",
              "      <th>std</th>\n",
              "      <td>238.701524</td>\n",
              "      <td>38.190384</td>\n",
              "      <td>11.253019</td>\n",
              "      <td>9.259411</td>\n",
              "      <td>10.528057</td>\n",
              "      <td>11.976710</td>\n",
              "      <td>1.961104e+06</td>\n",
              "      <td>3.549427e+07</td>\n",
              "      <td>6.576629e+06</td>\n",
              "      <td>1.062911e+05</td>\n",
              "      <td>2.020816e+06</td>\n",
              "      <td>6.692978e+06</td>\n",
              "      <td>5.067614e+05</td>\n",
              "      <td>37510.509628</td>\n",
              "    </tr>\n",
              "    <tr>\n",
              "      <th>min</th>\n",
              "      <td>201420.000000</td>\n",
              "      <td>198.000000</td>\n",
              "      <td>0.000000</td>\n",
              "      <td>0.000000</td>\n",
              "      <td>0.000000</td>\n",
              "      <td>0.000000</td>\n",
              "      <td>0.000000e+00</td>\n",
              "      <td>0.000000e+00</td>\n",
              "      <td>0.000000e+00</td>\n",
              "      <td>0.000000e+00</td>\n",
              "      <td>0.000000e+00</td>\n",
              "      <td>0.000000e+00</td>\n",
              "      <td>-1.052555e+07</td>\n",
              "      <td>1991.000000</td>\n",
              "    </tr>\n",
              "    <tr>\n",
              "      <th>25%</th>\n",
              "      <td>202010.000000</td>\n",
              "      <td>313.000000</td>\n",
              "      <td>62.000000</td>\n",
              "      <td>63.000000</td>\n",
              "      <td>61.000000</td>\n",
              "      <td>65.000000</td>\n",
              "      <td>0.000000e+00</td>\n",
              "      <td>0.000000e+00</td>\n",
              "      <td>0.000000e+00</td>\n",
              "      <td>0.000000e+00</td>\n",
              "      <td>0.000000e+00</td>\n",
              "      <td>0.000000e+00</td>\n",
              "      <td>0.000000e+00</td>\n",
              "      <td>9451.000000</td>\n",
              "    </tr>\n",
              "    <tr>\n",
              "      <th>50%</th>\n",
              "      <td>202220.000000</td>\n",
              "      <td>340.000000</td>\n",
              "      <td>69.000000</td>\n",
              "      <td>68.000000</td>\n",
              "      <td>67.000000</td>\n",
              "      <td>73.000000</td>\n",
              "      <td>0.000000e+00</td>\n",
              "      <td>0.000000e+00</td>\n",
              "      <td>9.130000e+06</td>\n",
              "      <td>1.369500e+05</td>\n",
              "      <td>0.000000e+00</td>\n",
              "      <td>9.241575e+06</td>\n",
              "      <td>0.000000e+00</td>\n",
              "      <td>53512.000000</td>\n",
              "    </tr>\n",
              "    <tr>\n",
              "      <th>75%</th>\n",
              "      <td>202410.000000</td>\n",
              "      <td>364.000000</td>\n",
              "      <td>75.000000</td>\n",
              "      <td>73.000000</td>\n",
              "      <td>72.000000</td>\n",
              "      <td>80.000000</td>\n",
              "      <td>0.000000e+00</td>\n",
              "      <td>0.000000e+00</td>\n",
              "      <td>1.157000e+07</td>\n",
              "      <td>1.735500e+05</td>\n",
              "      <td>0.000000e+00</td>\n",
              "      <td>1.174355e+07</td>\n",
              "      <td>0.000000e+00</td>\n",
              "      <td>54533.000000</td>\n",
              "    </tr>\n",
              "    <tr>\n",
              "      <th>max</th>\n",
              "      <td>202610.000000</td>\n",
              "      <td>500.000000</td>\n",
              "      <td>100.000000</td>\n",
              "      <td>100.000000</td>\n",
              "      <td>100.000000</td>\n",
              "      <td>100.000000</td>\n",
              "      <td>2.541000e+07</td>\n",
              "      <td>2.881300e+08</td>\n",
              "      <td>2.541000e+07</td>\n",
              "      <td>1.148438e+06</td>\n",
              "      <td>2.541000e+07</td>\n",
              "      <td>2.655844e+07</td>\n",
              "      <td>2.579115e+07</td>\n",
              "      <td>117734.000000</td>\n",
              "    </tr>\n",
              "  </tbody>\n",
              "</table>\n",
              "</div>\n",
              "    <div class=\"colab-df-buttons\">\n",
              "\n",
              "  <div class=\"colab-df-container\">\n",
              "    <button class=\"colab-df-convert\" onclick=\"convertToInteractive('df-4bf3258e-a6a5-4dad-8d7a-d5ff144e76a8')\"\n",
              "            title=\"Convert this dataframe to an interactive table.\"\n",
              "            style=\"display:none;\">\n",
              "\n",
              "  <svg xmlns=\"http://www.w3.org/2000/svg\" height=\"24px\" viewBox=\"0 -960 960 960\">\n",
              "    <path d=\"M120-120v-720h720v720H120Zm60-500h600v-160H180v160Zm220 220h160v-160H400v160Zm0 220h160v-160H400v160ZM180-400h160v-160H180v160Zm440 0h160v-160H620v160ZM180-180h160v-160H180v160Zm440 0h160v-160H620v160Z\"/>\n",
              "  </svg>\n",
              "    </button>\n",
              "\n",
              "  <style>\n",
              "    .colab-df-container {\n",
              "      display:flex;\n",
              "      gap: 12px;\n",
              "    }\n",
              "\n",
              "    .colab-df-convert {\n",
              "      background-color: #E8F0FE;\n",
              "      border: none;\n",
              "      border-radius: 50%;\n",
              "      cursor: pointer;\n",
              "      display: none;\n",
              "      fill: #1967D2;\n",
              "      height: 32px;\n",
              "      padding: 0 0 0 0;\n",
              "      width: 32px;\n",
              "    }\n",
              "\n",
              "    .colab-df-convert:hover {\n",
              "      background-color: #E2EBFA;\n",
              "      box-shadow: 0px 1px 2px rgba(60, 64, 67, 0.3), 0px 1px 3px 1px rgba(60, 64, 67, 0.15);\n",
              "      fill: #174EA6;\n",
              "    }\n",
              "\n",
              "    .colab-df-buttons div {\n",
              "      margin-bottom: 4px;\n",
              "    }\n",
              "\n",
              "    [theme=dark] .colab-df-convert {\n",
              "      background-color: #3B4455;\n",
              "      fill: #D2E3FC;\n",
              "    }\n",
              "\n",
              "    [theme=dark] .colab-df-convert:hover {\n",
              "      background-color: #434B5C;\n",
              "      box-shadow: 0px 1px 3px 1px rgba(0, 0, 0, 0.15);\n",
              "      filter: drop-shadow(0px 1px 2px rgba(0, 0, 0, 0.3));\n",
              "      fill: #FFFFFF;\n",
              "    }\n",
              "  </style>\n",
              "\n",
              "    <script>\n",
              "      const buttonEl =\n",
              "        document.querySelector('#df-4bf3258e-a6a5-4dad-8d7a-d5ff144e76a8 button.colab-df-convert');\n",
              "      buttonEl.style.display =\n",
              "        google.colab.kernel.accessAllowed ? 'block' : 'none';\n",
              "\n",
              "      async function convertToInteractive(key) {\n",
              "        const element = document.querySelector('#df-4bf3258e-a6a5-4dad-8d7a-d5ff144e76a8');\n",
              "        const dataTable =\n",
              "          await google.colab.kernel.invokeFunction('convertToInteractive',\n",
              "                                                    [key], {});\n",
              "        if (!dataTable) return;\n",
              "\n",
              "        const docLinkHtml = 'Like what you see? Visit the ' +\n",
              "          '<a target=\"_blank\" href=https://colab.research.google.com/notebooks/data_table.ipynb>data table notebook</a>'\n",
              "          + ' to learn more about interactive tables.';\n",
              "        element.innerHTML = '';\n",
              "        dataTable['output_type'] = 'display_data';\n",
              "        await google.colab.output.renderOutput(dataTable, element);\n",
              "        const docLink = document.createElement('div');\n",
              "        docLink.innerHTML = docLinkHtml;\n",
              "        element.appendChild(docLink);\n",
              "      }\n",
              "    </script>\n",
              "  </div>\n",
              "\n",
              "\n",
              "    <div id=\"df-fa51eb63-942c-4921-8f3e-732d01f3e474\">\n",
              "      <button class=\"colab-df-quickchart\" onclick=\"quickchart('df-fa51eb63-942c-4921-8f3e-732d01f3e474')\"\n",
              "                title=\"Suggest charts\"\n",
              "                style=\"display:none;\">\n",
              "\n",
              "<svg xmlns=\"http://www.w3.org/2000/svg\" height=\"24px\"viewBox=\"0 0 24 24\"\n",
              "     width=\"24px\">\n",
              "    <g>\n",
              "        <path d=\"M19 3H5c-1.1 0-2 .9-2 2v14c0 1.1.9 2 2 2h14c1.1 0 2-.9 2-2V5c0-1.1-.9-2-2-2zM9 17H7v-7h2v7zm4 0h-2V7h2v10zm4 0h-2v-4h2v4z\"/>\n",
              "    </g>\n",
              "</svg>\n",
              "      </button>\n",
              "\n",
              "<style>\n",
              "  .colab-df-quickchart {\n",
              "      --bg-color: #E8F0FE;\n",
              "      --fill-color: #1967D2;\n",
              "      --hover-bg-color: #E2EBFA;\n",
              "      --hover-fill-color: #174EA6;\n",
              "      --disabled-fill-color: #AAA;\n",
              "      --disabled-bg-color: #DDD;\n",
              "  }\n",
              "\n",
              "  [theme=dark] .colab-df-quickchart {\n",
              "      --bg-color: #3B4455;\n",
              "      --fill-color: #D2E3FC;\n",
              "      --hover-bg-color: #434B5C;\n",
              "      --hover-fill-color: #FFFFFF;\n",
              "      --disabled-bg-color: #3B4455;\n",
              "      --disabled-fill-color: #666;\n",
              "  }\n",
              "\n",
              "  .colab-df-quickchart {\n",
              "    background-color: var(--bg-color);\n",
              "    border: none;\n",
              "    border-radius: 50%;\n",
              "    cursor: pointer;\n",
              "    display: none;\n",
              "    fill: var(--fill-color);\n",
              "    height: 32px;\n",
              "    padding: 0;\n",
              "    width: 32px;\n",
              "  }\n",
              "\n",
              "  .colab-df-quickchart:hover {\n",
              "    background-color: var(--hover-bg-color);\n",
              "    box-shadow: 0 1px 2px rgba(60, 64, 67, 0.3), 0 1px 3px 1px rgba(60, 64, 67, 0.15);\n",
              "    fill: var(--button-hover-fill-color);\n",
              "  }\n",
              "\n",
              "  .colab-df-quickchart-complete:disabled,\n",
              "  .colab-df-quickchart-complete:disabled:hover {\n",
              "    background-color: var(--disabled-bg-color);\n",
              "    fill: var(--disabled-fill-color);\n",
              "    box-shadow: none;\n",
              "  }\n",
              "\n",
              "  .colab-df-spinner {\n",
              "    border: 2px solid var(--fill-color);\n",
              "    border-color: transparent;\n",
              "    border-bottom-color: var(--fill-color);\n",
              "    animation:\n",
              "      spin 1s steps(1) infinite;\n",
              "  }\n",
              "\n",
              "  @keyframes spin {\n",
              "    0% {\n",
              "      border-color: transparent;\n",
              "      border-bottom-color: var(--fill-color);\n",
              "      border-left-color: var(--fill-color);\n",
              "    }\n",
              "    20% {\n",
              "      border-color: transparent;\n",
              "      border-left-color: var(--fill-color);\n",
              "      border-top-color: var(--fill-color);\n",
              "    }\n",
              "    30% {\n",
              "      border-color: transparent;\n",
              "      border-left-color: var(--fill-color);\n",
              "      border-top-color: var(--fill-color);\n",
              "      border-right-color: var(--fill-color);\n",
              "    }\n",
              "    40% {\n",
              "      border-color: transparent;\n",
              "      border-right-color: var(--fill-color);\n",
              "      border-top-color: var(--fill-color);\n",
              "    }\n",
              "    60% {\n",
              "      border-color: transparent;\n",
              "      border-right-color: var(--fill-color);\n",
              "    }\n",
              "    80% {\n",
              "      border-color: transparent;\n",
              "      border-right-color: var(--fill-color);\n",
              "      border-bottom-color: var(--fill-color);\n",
              "    }\n",
              "    90% {\n",
              "      border-color: transparent;\n",
              "      border-bottom-color: var(--fill-color);\n",
              "    }\n",
              "  }\n",
              "</style>\n",
              "\n",
              "      <script>\n",
              "        async function quickchart(key) {\n",
              "          const quickchartButtonEl =\n",
              "            document.querySelector('#' + key + ' button');\n",
              "          quickchartButtonEl.disabled = true;  // To prevent multiple clicks.\n",
              "          quickchartButtonEl.classList.add('colab-df-spinner');\n",
              "          try {\n",
              "            const charts = await google.colab.kernel.invokeFunction(\n",
              "                'suggestCharts', [key], {});\n",
              "          } catch (error) {\n",
              "            console.error('Error during call to suggestCharts:', error);\n",
              "          }\n",
              "          quickchartButtonEl.classList.remove('colab-df-spinner');\n",
              "          quickchartButtonEl.classList.add('colab-df-quickchart-complete');\n",
              "        }\n",
              "        (() => {\n",
              "          let quickchartButtonEl =\n",
              "            document.querySelector('#df-fa51eb63-942c-4921-8f3e-732d01f3e474 button');\n",
              "          quickchartButtonEl.style.display =\n",
              "            google.colab.kernel.accessAllowed ? 'block' : 'none';\n",
              "        })();\n",
              "      </script>\n",
              "    </div>\n",
              "\n",
              "    </div>\n",
              "  </div>\n"
            ],
            "application/vnd.google.colaboratory.intrinsic+json": {
              "type": "dataframe",
              "summary": "{\n  \"name\": \"df\",\n  \"rows\": 8,\n  \"fields\": [\n    {\n      \"column\": \"Periodo Admisi\\u00f3n\",\n      \"properties\": {\n        \"dtype\": \"number\",\n        \"std\": 90288.56595856398,\n        \"min\": 238.70152439591794,\n        \"max\": 202610.0,\n        \"num_unique_values\": 8,\n        \"samples\": [\n          202199.76672959933,\n          202220.0,\n          14301.0\n        ],\n        \"semantic_type\": \"\",\n        \"description\": \"\"\n      }\n    },\n    {\n      \"column\": \"Puntaje Icfes\",\n      \"properties\": {\n        \"dtype\": \"number\",\n        \"std\": 4972.5065184879795,\n        \"min\": 38.19038413584134,\n        \"max\": 14358.0,\n        \"num_unique_values\": 8,\n        \"samples\": [\n          338.11784371082325,\n          340.0,\n          14358.0\n        ],\n        \"semantic_type\": \"\",\n        \"description\": \"\"\n      }\n    },\n    {\n      \"column\": \"Matem\\u00e1ticas\",\n      \"properties\": {\n        \"dtype\": \"number\",\n        \"std\": 4853.307635190941,\n        \"min\": 0.0,\n        \"max\": 13782.0,\n        \"num_unique_values\": 8,\n        \"samples\": [\n          68.42794949934698,\n          69.0,\n          13782.0\n        ],\n        \"semantic_type\": \"\",\n        \"description\": \"\"\n      }\n    },\n    {\n      \"column\": \"Lectura Cr\\u00edtica\",\n      \"properties\": {\n        \"dtype\": \"number\",\n        \"std\": 4840.830704517835,\n        \"min\": 0.0,\n        \"max\": 13746.0,\n        \"num_unique_values\": 8,\n        \"samples\": [\n          67.47650225520151,\n          68.0,\n          13746.0\n        ],\n        \"semantic_type\": \"\",\n        \"description\": \"\"\n      }\n    },\n    {\n      \"column\": \"Sociales Ciudadanas\",\n      \"properties\": {\n        \"dtype\": \"number\",\n        \"std\": 4788.002614650596,\n        \"min\": 0.0,\n        \"max\": 13596.0,\n        \"num_unique_values\": 8,\n        \"samples\": [\n          66.10444248308326,\n          67.0,\n          13596.0\n        ],\n        \"semantic_type\": \"\",\n        \"description\": \"\"\n      }\n    },\n    {\n      \"column\": \"Ingl\\u00e9s\",\n      \"properties\": {\n        \"dtype\": \"number\",\n        \"std\": 4396.773973674374,\n        \"min\": 0.0,\n        \"max\": 12493.0,\n        \"num_unique_values\": 8,\n        \"samples\": [\n          71.9765468662451,\n          73.0,\n          12493.0\n        ],\n        \"semantic_type\": \"\",\n        \"description\": \"\"\n      }\n    },\n    {\n      \"column\": \"Valor beca\",\n      \"properties\": {\n        \"dtype\": \"number\",\n        \"std\": 8880808.062569844,\n        \"min\": 0.0,\n        \"max\": 25410000.0,\n        \"num_unique_values\": 5,\n        \"samples\": [\n          581885.0491015462,\n          25410000.0,\n          1961103.9124643807\n        ],\n        \"semantic_type\": \"\",\n        \"description\": \"\"\n      }\n    },\n    {\n      \"column\": \"Valor Icetex\",\n      \"properties\": {\n        \"dtype\": \"number\",\n        \"std\": 100077318.60513891,\n        \"min\": 0.0,\n        \"max\": 288130000.0,\n        \"num_unique_values\": 5,\n        \"samples\": [\n          16135489.954241538,\n          288130000.0,\n          35494273.34928671\n        ],\n        \"semantic_type\": \"\",\n        \"description\": \"\"\n      }\n    },\n    {\n      \"column\": \"Valor matricula\",\n      \"properties\": {\n        \"dtype\": \"number\",\n        \"std\": 8530655.337193767,\n        \"min\": 0.0,\n        \"max\": 25410000.0,\n        \"num_unique_values\": 7,\n        \"samples\": [\n          14182.0,\n          7714894.499788464,\n          11570000.0\n        ],\n        \"semantic_type\": \"\",\n        \"description\": \"\"\n      }\n    },\n    {\n      \"column\": \"Valor procultura\",\n      \"properties\": {\n        \"dtype\": \"number\",\n        \"std\": 384163.40784912393,\n        \"min\": 0.0,\n        \"max\": 1148438.0,\n        \"num_unique_values\": 7,\n        \"samples\": [\n          14182.0,\n          117928.07650542942,\n          173550.0\n        ],\n        \"semantic_type\": \"\",\n        \"description\": \"\"\n      }\n    },\n    {\n      \"column\": \"Cr\\u00e9ditos U (PCR)\",\n      \"properties\": {\n        \"dtype\": \"number\",\n        \"std\": 8884522.083134802,\n        \"min\": 0.0,\n        \"max\": 25410000.0,\n        \"num_unique_values\": 5,\n        \"samples\": [\n          473918.7107984523,\n          25410000.0,\n          2020816.2305208254\n        ],\n        \"semantic_type\": \"\",\n        \"description\": \"\"\n      }\n    },\n    {\n      \"column\": \"Valor matricula.1\",\n      \"properties\": {\n        \"dtype\": \"number\",\n        \"std\": 8888300.432579875,\n        \"min\": 0.0,\n        \"max\": 26558438.0,\n        \"num_unique_values\": 7,\n        \"samples\": [\n          14358.0,\n          7736525.405836468,\n          11743550.0\n        ],\n        \"semantic_type\": \"\",\n        \"description\": \"\"\n      }\n    },\n    {\n      \"column\": \"Saldo Pre\",\n      \"properties\": {\n        \"dtype\": \"number\",\n        \"std\": 10316547.681413276,\n        \"min\": -10525550.0,\n        \"max\": 25791150.0,\n        \"num_unique_values\": 6,\n        \"samples\": [\n          14358.0,\n          14483.555369828668,\n          25791150.0\n        ],\n        \"semantic_type\": \"\",\n        \"description\": \"\"\n      }\n    },\n    {\n      \"column\": \"Unnamed: 78\",\n      \"properties\": {\n        \"dtype\": \"number\",\n        \"std\": 38243.14824265729,\n        \"min\": 1991.0,\n        \"max\": 117734.0,\n        \"num_unique_values\": 8,\n        \"samples\": [\n          49147.48009436744,\n          53512.0,\n          3391.0\n        ],\n        \"semantic_type\": \"\",\n        \"description\": \"\"\n      }\n    }\n  ]\n}"
            }
          },
          "metadata": {},
          "execution_count": 32
        }
      ]
    },
    {
      "cell_type": "code",
      "source": [
        "df['Edad Aproximada'].describe()"
      ],
      "metadata": {
        "colab": {
          "base_uri": "https://localhost:8080/",
          "height": 210
        },
        "id": "hhRSaJbVmECk",
        "outputId": "1f5d6cf6-2152-4fc9-9319-bc0f6588652c"
      },
      "execution_count": null,
      "outputs": [
        {
          "output_type": "execute_result",
          "data": {
            "text/plain": [
              "count     14358\n",
              "unique       57\n",
              "top          19\n",
              "freq       2098\n",
              "Name: Edad Aproximada, dtype: object"
            ],
            "text/html": [
              "<div>\n",
              "<style scoped>\n",
              "    .dataframe tbody tr th:only-of-type {\n",
              "        vertical-align: middle;\n",
              "    }\n",
              "\n",
              "    .dataframe tbody tr th {\n",
              "        vertical-align: top;\n",
              "    }\n",
              "\n",
              "    .dataframe thead th {\n",
              "        text-align: right;\n",
              "    }\n",
              "</style>\n",
              "<table border=\"1\" class=\"dataframe\">\n",
              "  <thead>\n",
              "    <tr style=\"text-align: right;\">\n",
              "      <th></th>\n",
              "      <th>Edad Aproximada</th>\n",
              "    </tr>\n",
              "  </thead>\n",
              "  <tbody>\n",
              "    <tr>\n",
              "      <th>count</th>\n",
              "      <td>14358</td>\n",
              "    </tr>\n",
              "    <tr>\n",
              "      <th>unique</th>\n",
              "      <td>57</td>\n",
              "    </tr>\n",
              "    <tr>\n",
              "      <th>top</th>\n",
              "      <td>19</td>\n",
              "    </tr>\n",
              "    <tr>\n",
              "      <th>freq</th>\n",
              "      <td>2098</td>\n",
              "    </tr>\n",
              "  </tbody>\n",
              "</table>\n",
              "</div><br><label><b>dtype:</b> object</label>"
            ]
          },
          "metadata": {},
          "execution_count": 33
        }
      ]
    },
    {
      "cell_type": "code",
      "source": [
        "df.Género.unique()"
      ],
      "metadata": {
        "colab": {
          "base_uri": "https://localhost:8080/"
        },
        "id": "CQRvLcu8UtWc",
        "outputId": "9d301122-4064-4934-ca39-2aef3b2a4c80"
      },
      "execution_count": null,
      "outputs": [
        {
          "output_type": "execute_result",
          "data": {
            "text/plain": [
              "array(['M', 'F', 'N'], dtype=object)"
            ]
          },
          "metadata": {},
          "execution_count": 34
        }
      ]
    },
    {
      "cell_type": "markdown",
      "source": [
        "##Análisis Bi-variado"
      ],
      "metadata": {
        "id": "fWxMhbq3zjvH"
      }
    },
    {
      "cell_type": "code",
      "source": [],
      "metadata": {
        "id": "4OIcemUqzfCm"
      },
      "execution_count": null,
      "outputs": []
    },
    {
      "cell_type": "code",
      "source": [
        "sns.heatmap(df.select_dtypes(include=np.number).corr())"
      ],
      "metadata": {
        "colab": {
          "base_uri": "https://localhost:8080/",
          "height": 581
        },
        "id": "G8Q9MGX8N9az",
        "outputId": "c0d4d3c5-0ee0-4781-afae-16b879915f96"
      },
      "execution_count": null,
      "outputs": [
        {
          "output_type": "execute_result",
          "data": {
            "text/plain": [
              "<Axes: >"
            ]
          },
          "metadata": {},
          "execution_count": 35
        },
        {
          "output_type": "display_data",
          "data": {
            "text/plain": [
              "<Figure size 640x480 with 2 Axes>"
            ],
            "image/png": "[encoded data removed]"
          },
          "metadata": {}
        }
      ]
    },
    {
      "cell_type": "code",
      "source": [
        "df.Programa.unique()"
      ],
      "metadata": {
        "colab": {
          "base_uri": "https://localhost:8080/"
        },
        "id": "hn5_-oy9QCXn",
        "outputId": "a2897369-b4cf-4aa9-dd67-ecc4315a88cf"
      },
      "execution_count": null,
      "outputs": [
        {
          "output_type": "execute_result",
          "data": {
            "text/plain": [
              "array(['ADD', 'ANT', 'BIO', 'CIP', 'CLP', 'COF', 'DER', 'DIS', 'DMI',\n",
              "       'ECO', 'ENI', 'IBQ', 'IND', 'LAT', 'LCN', 'LCS', 'LEI', 'LYL',\n",
              "       'MED', 'MIP', 'MUS', 'PSI', 'QUF', 'QUI', 'SIS', 'SOC', 'TEL',\n",
              "       'LBP', 'FIN', 'COM', 'IAG', 'IEI', 'BAC', 'MVZ', 'NET'],\n",
              "      dtype=object)"
            ]
          },
          "metadata": {},
          "execution_count": 36
        }
      ]
    },
    {
      "cell_type": "code",
      "source": [
        "len(df.Programa.unique())"
      ],
      "metadata": {
        "colab": {
          "base_uri": "https://localhost:8080/"
        },
        "id": "xfcdhjv8PjBm",
        "outputId": "e19c479e-ea7b-4567-c0f4-0a6656c700c8"
      },
      "execution_count": null,
      "outputs": [
        {
          "output_type": "execute_result",
          "data": {
            "text/plain": [
              "35"
            ]
          },
          "metadata": {},
          "execution_count": 37
        }
      ]
    },
    {
      "cell_type": "code",
      "source": [
        "indices = df[(df['Programa'] == 'ESH') & (df['Programa'] == 'PO000')].index\n"
      ],
      "metadata": {
        "id": "uHzksgtkQmhN"
      },
      "execution_count": null,
      "outputs": []
    },
    {
      "cell_type": "code",
      "source": [
        "df.Admitido.unique()"
      ],
      "metadata": {
        "colab": {
          "base_uri": "https://localhost:8080/"
        },
        "id": "3U0AGu45Xk8F",
        "outputId": "145023a4-a100-42ee-bbd3-7028fe654749"
      },
      "execution_count": null,
      "outputs": [
        {
          "output_type": "execute_result",
          "data": {
            "text/plain": [
              "array(['Sí'], dtype=object)"
            ]
          },
          "metadata": {},
          "execution_count": 39
        }
      ]
    },
    {
      "cell_type": "markdown",
      "source": [
        "Verificar que el Dataframe exista, Detectar el nombre de las columnas que contienen eo codigo de las carreras y definir funciones de apoyo para graficar."
      ],
      "metadata": {
        "id": "70MFNaMUuNRl"
      }
    },
    {
      "cell_type": "code",
      "source": [
        "import pandas as pd\n",
        "import numpy as np\n",
        "import matplotlib.pyplot as plt\n",
        "\n",
        "# --- 1) Verificar que df existe ---\n",
        "try:\n",
        "    assert isinstance(df, pd.DataFrame)\n",
        "except:\n",
        "    raise RuntimeError(\"No encuentro el DataFrame 'df'. Asegúrate de haber cargado los datos antes.\")\n",
        "\n",
        "# --- 2) Detectar la columna de código de carrera ---\n",
        "# Ajusta esta lista al nombre REAL de tu columna si difiere.\n",
        "posibles_cols_codigo = [\"CodigoCarrera\", \"CódigoCarrera\", \"codigo_carrera\", \"ProgramaCodigo\", \"Programa_Codigo\"]\n",
        "col_codigo = next((c for c in posibles_cols_codigo if c in df.columns), None)\n",
        "\n",
        "# Si no existe una columna explícita de código, intenta derivarla de otra columna (por ejemplo, 'Programa' o 'Carrera')\n",
        "if col_codigo is None:\n",
        "    posibles_cols_texto = [\"Programa\", \"Carrera\", \"NombrePrograma\", \"NombreCarrera\"]\n",
        "    col_texto = next((c for c in posibles_cols_texto if c in df.columns), None)\n",
        "    if col_texto is None:\n",
        "        raise RuntimeError(\n",
        "            \"No encontré una columna de código ni una de texto de programa/carrera.\\n\"\n",
        "            \"Revisa los nombres de columnas y ajusta 'posibles_cols_codigo' o 'posibles_cols_texto'.\"\n",
        "        )\n",
        "    # Derivar un 'Código' tomando las primeras 3 letras mayúsculas (ajusta si tu convención es distinta)\n",
        "    col_codigo = \"CodigoCarrera\"\n",
        "    df[col_codigo] = df[col_texto].astype(str).str.strip().str.upper().str[:3]\n",
        "\n",
        "print(f\"✅ Columna de código detectada/creada: '{col_codigo}'\")\n",
        "\n",
        "# --- 3) Funciones de apoyo para gráficos (matplotlib puro) ---\n",
        "\n",
        "def plot_barras_categorica(series, titulo, rot=0, top_n=None):\n",
        "    \"\"\"\n",
        "    Dibuja barras para una serie categórica.\n",
        "    - series: pd.Series con valores categóricos\n",
        "    - top_n: si quieres mostrar solo las N categorías más frecuentes\n",
        "    \"\"\"\n",
        "    vc = series.value_counts(dropna=False)\n",
        "    if top_n is not None:\n",
        "        vc = vc.head(top_n)\n",
        "    plt.figure(figsize=(8,4))\n",
        "    vc.plot(kind=\"bar\")\n",
        "    plt.title(titulo)\n",
        "    plt.xlabel(series.name)\n",
        "    plt.ylabel(\"Frecuencia\")\n",
        "    plt.xticks(rotation=rot)\n",
        "    plt.tight_layout()\n",
        "    plt.show()\n",
        "\n",
        "def plot_histograma_y_box(numeric_series, titulo_base):\n",
        "    \"\"\"\n",
        "    Dibuja histograma y boxplot simples para una serie numérica.\n",
        "    \"\"\"\n",
        "    # Histograma\n",
        "    plt.figure(figsize=(7,4))\n",
        "    numeric_series.dropna().plot(kind=\"hist\", bins=20)\n",
        "    plt.title(f\"{titulo_base} - Histograma\")\n",
        "    plt.xlabel(numeric_series.name)\n",
        "    plt.ylabel(\"Frecuencia\")\n",
        "    plt.tight_layout()\n",
        "    plt.show()\n",
        "\n",
        "    # Boxplot\n",
        "    plt.figure(figsize=(6,3))\n",
        "    plt.boxplot(numeric_series.dropna(), vert=True)\n",
        "    plt.title(f\"{titulo_base} - Boxplot\")\n",
        "    plt.ylabel(numeric_series.name)\n",
        "    plt.tight_layout()\n",
        "    plt.show()\n"
      ],
      "metadata": {
        "colab": {
          "base_uri": "https://localhost:8080/"
        },
        "id": "MzN-7e7KuN7i",
        "outputId": "affcf601-c457-474e-b5b7-74d4fdc243ab"
      },
      "execution_count": null,
      "outputs": [
        {
          "output_type": "stream",
          "name": "stdout",
          "text": [
            "✅ Columna de código detectada/creada: 'CodigoCarrera'\n"
          ]
        }
      ]
    },
    {
      "cell_type": "markdown",
      "source": [
        "Definir diccionario de mapeo de facultades, usar el codigo de la carrera con clave de 3 letras, y revisar si faltan codigos a mapear."
      ],
      "metadata": {
        "id": "1bBN48bEu1xs"
      }
    },
    {
      "cell_type": "code",
      "source": [
        "# ==========================================================\n",
        "# 🏷️ Celda 2: Definir el diccionario de mapeo de FACULTAD\n",
        "# - Usa el código de la carrera como clave (3 letras)\n",
        "# - Si te faltan códigos, agrégalos aquí\n",
        "# ==========================================================\n",
        "\n",
        "mapa_codigo = {\n",
        "    # Negocios y Economía\n",
        "    \"ADD\": \"Negocios y Economía\",\"ADN\": \"Negocios y Economía\",\"ENI\": \"Negocios y Economía\",\n",
        "    \"ECO\": \"Negocios y Economía\",\"COF\": \"Negocios y Economía\",\"FIN\": \"Negocios y Economía\",\"MIP\": \"Negocios y Economía\",\n",
        "    # Ingeniería, Diseño y Ciencias Aplicadas\n",
        "    \"SIS\": \"Ingeniería, Diseño y Ciencias Aplicadas\",\"IND\": \"Ingeniería, Diseño y Ciencias Aplicadas\",\n",
        "    \"TEL\": \"Ingeniería, Diseño y Ciencias Aplicadas\",\"IBQ\": \"Ingeniería, Diseño y Ciencias Aplicadas\",\n",
        "    \"BIO\": \"Ingeniería, Diseño y Ciencias Aplicadas\",\"QUI\": \"Ingeniería, Diseño y Ciencias Aplicadas\",\n",
        "    \"QFA\": \"Ingeniería, Diseño y Ciencias Aplicadas\",\"DMI\": \"Ingeniería, Diseño y Ciencias Aplicadas\",\n",
        "    \"DIN\": \"Ingeniería, Diseño y Ciencias Aplicadas\",\"DIS\": \"Ingeniería, Diseño y Ciencias Aplicadas\",\n",
        "    \"IEI\": \"Ingeniería, Diseño y Ciencias Aplicadas\",\"IAG\": \"Ingeniería, Diseño y Ciencias Aplicadas\",\n",
        "    \"QUF\": \"Ingeniería, Diseño y Ciencias Aplicadas\",\n",
        "    # Ciencias Humanas\n",
        "    \"ANT\": \"Ciencias Humanas\",\"SOC\": \"Ciencias Humanas\",\"CPO\": \"Ciencias Humanas\",\"PSI\": \"Ciencias Humanas\",\"DER\": \"Ciencias Humanas\",\n",
        "    \"MUS\": \"Ciencias Humanas\",\"LED\": \"Ciencias Humanas\",\"LLE\": \"Ciencias Humanas\",\"COM\": \"Ciencias Humanas\",\n",
        "    \"CIP\": \"Ciencias Humanas\",\"LEI\": \"Ciencias Humanas\",\"LCS\": \"Ciencias Humanas\",\"LYL\": \"Ciencias Humanas\",\n",
        "    \"LCN\": \"Ciencias Humanas\",\"LAT\": \"Ciencias Humanas\",\n",
        "    # Ciencias de la Salud\n",
        "    \"MED\": \"Ciencias de la Salud\",\"BAC\": \"Ciencias de la Salud\",\n",
        "\n",
        "    #codigos nuevos\n",
        "    \"MVZ\": \"Ingeniería, Diseño y Ciencias Aplicadas\",  # Medicina Veterinaria y Zootecnia\n",
        "    \"PO0\": \"Ciencias Humanas\",                         # Psicología\n",
        "    \"CLP\": \"Ciencias Humanas\",                         # Ciencia Política\n",
        "    \"LBP\": \"Ciencias Humanas\",                         # Licenciatura en Lenguas Extranjeras (ajusta si es Biología)\n",
        "    \"NET\": \"Negocios y Economía\",\n",
        "}\n",
        "\n",
        "print(\"✅ Diccionario de mapeo cargado. Total códigos:\", len(mapa_codigo))\n"
      ],
      "metadata": {
        "colab": {
          "base_uri": "https://localhost:8080/"
        },
        "id": "FMjeR0Uuu1FE",
        "outputId": "94fd4c94-81d9-4bef-b0db-afd5198ba6d5"
      },
      "execution_count": null,
      "outputs": [
        {
          "output_type": "stream",
          "name": "stdout",
          "text": [
            "✅ Diccionario de mapeo cargado. Total códigos: 42\n"
          ]
        }
      ]
    },
    {
      "cell_type": "code",
      "source": [
        "# =================================================================\n",
        "# 🧱 Celda 3: Crear la columna 'facultad' y revisar posibles faltantes\n",
        "# - Mapea cada código de carrera a una facultad\n",
        "# - Señala los códigos que no quedaron mapeados (para que los agregues)\n",
        "# =================================================================\n",
        "\n",
        "# Crear columna\n",
        "df[\"facultad\"] = df[col_codigo].map(mapa_codigo)\n",
        "\n",
        "# Reportar códigos no mapeados (si existen)\n",
        "codigos_unicos = df[col_codigo].dropna().unique()\n",
        "no_mapeados = sorted([c for c in codigos_unicos if c not in mapa_codigo])\n",
        "\n",
        "print(f\"✅ Columna 'facultad' creada. Ejemplo:\\n\", df[[col_codigo, \"facultad\"]].head(), \"\\n\")\n",
        "\n",
        "if no_mapeados:\n",
        "    print(\"⚠️ Códigos NO mapeados (agrégalos a 'mapa_codigo'):\", no_mapeados)\n",
        "else:\n",
        "    print(\"🎉 Todos los códigos presentes quedaron mapeados.\")\n"
      ],
      "metadata": {
        "colab": {
          "base_uri": "https://localhost:8080/"
        },
        "id": "B5D1khQFu-gk",
        "outputId": "2319e32b-2203-465b-a92d-4ba6fe622f07"
      },
      "execution_count": null,
      "outputs": [
        {
          "output_type": "stream",
          "name": "stdout",
          "text": [
            "✅ Columna 'facultad' creada. Ejemplo:\n",
            "   CodigoCarrera             facultad\n",
            "0           ADD  Negocios y Economía\n",
            "1           ADD  Negocios y Economía\n",
            "3           ADD  Negocios y Economía\n",
            "4           ADD  Negocios y Economía\n",
            "5           ADD  Negocios y Economía \n",
            "\n",
            "🎉 Todos los códigos presentes quedaron mapeados.\n"
          ]
        }
      ]
    },
    {
      "cell_type": "code",
      "source": [
        "df[\"facultad\"].describe()"
      ],
      "metadata": {
        "colab": {
          "base_uri": "https://localhost:8080/",
          "height": 210
        },
        "id": "3gm7WhinvpZt",
        "outputId": "01a48f4d-3892-4cf3-b767-1c5fca5a951d"
      },
      "execution_count": null,
      "outputs": [
        {
          "output_type": "execute_result",
          "data": {
            "text/plain": [
              "count                                       14358\n",
              "unique                                          4\n",
              "top       Ingeniería, Diseño y Ciencias Aplicadas\n",
              "freq                                         5342\n",
              "Name: facultad, dtype: object"
            ],
            "text/html": [
              "<div>\n",
              "<style scoped>\n",
              "    .dataframe tbody tr th:only-of-type {\n",
              "        vertical-align: middle;\n",
              "    }\n",
              "\n",
              "    .dataframe tbody tr th {\n",
              "        vertical-align: top;\n",
              "    }\n",
              "\n",
              "    .dataframe thead th {\n",
              "        text-align: right;\n",
              "    }\n",
              "</style>\n",
              "<table border=\"1\" class=\"dataframe\">\n",
              "  <thead>\n",
              "    <tr style=\"text-align: right;\">\n",
              "      <th></th>\n",
              "      <th>facultad</th>\n",
              "    </tr>\n",
              "  </thead>\n",
              "  <tbody>\n",
              "    <tr>\n",
              "      <th>count</th>\n",
              "      <td>14358</td>\n",
              "    </tr>\n",
              "    <tr>\n",
              "      <th>unique</th>\n",
              "      <td>4</td>\n",
              "    </tr>\n",
              "    <tr>\n",
              "      <th>top</th>\n",
              "      <td>Ingeniería, Diseño y Ciencias Aplicadas</td>\n",
              "    </tr>\n",
              "    <tr>\n",
              "      <th>freq</th>\n",
              "      <td>5342</td>\n",
              "    </tr>\n",
              "  </tbody>\n",
              "</table>\n",
              "</div><br><label><b>dtype:</b> object</label>"
            ]
          },
          "metadata": {},
          "execution_count": 43
        }
      ]
    },
    {
      "cell_type": "markdown",
      "source": [
        "Verificar que no queden códigos sin mapear"
      ],
      "metadata": {
        "id": "Om4bnK_p1OGi"
      }
    },
    {
      "cell_type": "code",
      "source": [
        "no_mapeados = sorted(c for c in df[\"CodigoCarrera\"].dropna().unique() if c not in mapa_codigo)\n",
        "print(\"No mapeados:\", no_mapeados)\n",
        "df[\"facultad\"].isna().sum()\n"
      ],
      "metadata": {
        "colab": {
          "base_uri": "https://localhost:8080/"
        },
        "id": "t3D2MR2Q1Jc2",
        "outputId": "36f442a4-3e2b-4df2-df43-ad33f546c76e"
      },
      "execution_count": null,
      "outputs": [
        {
          "output_type": "stream",
          "name": "stdout",
          "text": [
            "No mapeados: []\n"
          ]
        },
        {
          "output_type": "execute_result",
          "data": {
            "text/plain": [
              "np.int64(0)"
            ]
          },
          "metadata": {},
          "execution_count": 44
        }
      ]
    },
    {
      "cell_type": "markdown",
      "source": [
        "Chequeos rápidos de calidad de datos"
      ],
      "metadata": {
        "id": "9uxoT5j41TRl"
      }
    },
    {
      "cell_type": "code",
      "source": [
        "# Nulos y duplicados\n",
        "display(df.isna().sum().sort_values(ascending=False))\n",
        "print(\"Duplicados:\", df.duplicated().sum())\n",
        "\n",
        "# Tipos y rangos básicos\n",
        "display(df.describe(include=\"all\"))\n"
      ],
      "metadata": {
        "colab": {
          "base_uri": "https://localhost:8080/",
          "height": 989
        },
        "id": "6eR74eCB1Tq0",
        "outputId": "92dc043b-e72f-4ec6-d98b-fc6f99733e47"
      },
      "execution_count": null,
      "outputs": [
        {
          "output_type": "display_data",
          "data": {
            "text/plain": [
              "Razonamiento Cuantitativo    14300\n",
              "Competencias Ciudadanas      14295\n",
              "Puesto Icfes                 14214\n",
              "Fecha Reserva Cupo           13223\n",
              "Créditos U                   12478\n",
              "                             ...  \n",
              "Valor matricula.1                0\n",
              "Saldo Pre                        0\n",
              "source_file                      0\n",
              "CodigoCarrera                    0\n",
              "facultad                         0\n",
              "Length: 78, dtype: int64"
            ],
            "text/html": [
              "<div>\n",
              "<style scoped>\n",
              "    .dataframe tbody tr th:only-of-type {\n",
              "        vertical-align: middle;\n",
              "    }\n",
              "\n",
              "    .dataframe tbody tr th {\n",
              "        vertical-align: top;\n",
              "    }\n",
              "\n",
              "    .dataframe thead th {\n",
              "        text-align: right;\n",
              "    }\n",
              "</style>\n",
              "<table border=\"1\" class=\"dataframe\">\n",
              "  <thead>\n",
              "    <tr style=\"text-align: right;\">\n",
              "      <th></th>\n",
              "      <th>0</th>\n",
              "    </tr>\n",
              "  </thead>\n",
              "  <tbody>\n",
              "    <tr>\n",
              "      <th>Razonamiento Cuantitativo</th>\n",
              "      <td>14300</td>\n",
              "    </tr>\n",
              "    <tr>\n",
              "      <th>Competencias Ciudadanas</th>\n",
              "      <td>14295</td>\n",
              "    </tr>\n",
              "    <tr>\n",
              "      <th>Puesto Icfes</th>\n",
              "      <td>14214</td>\n",
              "    </tr>\n",
              "    <tr>\n",
              "      <th>Fecha Reserva Cupo</th>\n",
              "      <td>13223</td>\n",
              "    </tr>\n",
              "    <tr>\n",
              "      <th>Créditos U</th>\n",
              "      <td>12478</td>\n",
              "    </tr>\n",
              "    <tr>\n",
              "      <th>...</th>\n",
              "      <td>...</td>\n",
              "    </tr>\n",
              "    <tr>\n",
              "      <th>Valor matricula.1</th>\n",
              "      <td>0</td>\n",
              "    </tr>\n",
              "    <tr>\n",
              "      <th>Saldo Pre</th>\n",
              "      <td>0</td>\n",
              "    </tr>\n",
              "    <tr>\n",
              "      <th>source_file</th>\n",
              "      <td>0</td>\n",
              "    </tr>\n",
              "    <tr>\n",
              "      <th>CodigoCarrera</th>\n",
              "      <td>0</td>\n",
              "    </tr>\n",
              "    <tr>\n",
              "      <th>facultad</th>\n",
              "      <td>0</td>\n",
              "    </tr>\n",
              "  </tbody>\n",
              "</table>\n",
              "<p>78 rows × 1 columns</p>\n",
              "</div><br><label><b>dtype:</b> int64</label>"
            ]
          },
          "metadata": {}
        },
        {
          "output_type": "stream",
          "name": "stdout",
          "text": [
            "Duplicados: 3\n"
          ]
        },
        {
          "output_type": "display_data",
          "data": {
            "text/plain": [
              "        Periodo Admisión Fecha Inscripción Fecha solicitud completada  \\\n",
              "count       14301.000000             14358                      10655   \n",
              "unique               NaN              4207                       1723   \n",
              "top                  NaN         5/05/2018                 13/12/2021   \n",
              "freq                 NaN                81                         60   \n",
              "mean       202199.766730               NaN                        NaN   \n",
              "std           238.701524               NaN                        NaN   \n",
              "min        201420.000000               NaN                        NaN   \n",
              "25%        202010.000000               NaN                        NaN   \n",
              "50%        202220.000000               NaN                        NaN   \n",
              "75%        202410.000000               NaN                        NaN   \n",
              "max        202610.000000               NaN                        NaN   \n",
              "\n",
              "       Programa Tipo ID Fecha Nacimiento  Puntaje Icfes Fecha Icfes  \\\n",
              "count     14358   14327            14358   14358.000000       14358   \n",
              "unique       35       9             3782            NaN         464   \n",
              "top         MED      CC        5/04/2004            NaN  25/03/2021   \n",
              "freq       2130    7880               19            NaN         818   \n",
              "mean        NaN     NaN              NaN     338.117844         NaN   \n",
              "std         NaN     NaN              NaN      38.190384         NaN   \n",
              "min         NaN     NaN              NaN     198.000000         NaN   \n",
              "25%         NaN     NaN              NaN     313.000000         NaN   \n",
              "50%         NaN     NaN              NaN     340.000000         NaN   \n",
              "75%         NaN     NaN              NaN     364.000000         NaN   \n",
              "max         NaN     NaN              NaN     500.000000         NaN   \n",
              "\n",
              "       Puesto Icfes Código Colegio  ... Valor matricula Valor procultura  \\\n",
              "count           144          14292  ...    1.418200e+04     1.418200e+04   \n",
              "unique           88           1757  ...             NaN              NaN   \n",
              "top            99.0         C00001  ...             NaN              NaN   \n",
              "freq              9            342  ...             NaN              NaN   \n",
              "mean            NaN            NaN  ...    7.714894e+06     1.179281e+05   \n",
              "std             NaN            NaN  ...    6.576629e+06     1.062911e+05   \n",
              "min             NaN            NaN  ...    0.000000e+00     0.000000e+00   \n",
              "25%             NaN            NaN  ...    0.000000e+00     0.000000e+00   \n",
              "50%             NaN            NaN  ...    9.130000e+06     1.369500e+05   \n",
              "75%             NaN            NaN  ...    1.157000e+07     1.735500e+05   \n",
              "max             NaN            NaN  ...    2.541000e+07     1.148438e+06   \n",
              "\n",
              "       Créditos U (PCR) Fecha pago matricula Valor matricula.1     Saldo Pre  \\\n",
              "count      1.421500e+04                 9305      1.435800e+04  1.435800e+04   \n",
              "unique              NaN                 1423               NaN           NaN   \n",
              "top                 NaN           16/01/2018               NaN           NaN   \n",
              "freq                NaN                  241               NaN           NaN   \n",
              "mean       4.739187e+05                  NaN      7.736525e+06  1.448356e+04   \n",
              "std        2.020816e+06                  NaN      6.692978e+06  5.067614e+05   \n",
              "min        0.000000e+00                  NaN      0.000000e+00 -1.052555e+07   \n",
              "25%        0.000000e+00                  NaN      0.000000e+00  0.000000e+00   \n",
              "50%        0.000000e+00                  NaN      9.241575e+06  0.000000e+00   \n",
              "75%        0.000000e+00                  NaN      1.174355e+07  0.000000e+00   \n",
              "max        2.541000e+07                  NaN      2.655844e+07  2.579115e+07   \n",
              "\n",
              "                    source_file    Unnamed: 78 CodigoCarrera  \\\n",
              "count                     14358    3391.000000         14358   \n",
              "unique                       16            NaN            35   \n",
              "top     202520 - 25-08-2025.csv            NaN           MED   \n",
              "freq                       1249            NaN          2130   \n",
              "mean                        NaN   49147.480094           NaN   \n",
              "std                         NaN   37510.509628           NaN   \n",
              "min                         NaN    1991.000000           NaN   \n",
              "25%                         NaN    9451.000000           NaN   \n",
              "50%                         NaN   53512.000000           NaN   \n",
              "75%                         NaN   54533.000000           NaN   \n",
              "max                         NaN  117734.000000           NaN   \n",
              "\n",
              "                                       facultad  \n",
              "count                                     14358  \n",
              "unique                                        4  \n",
              "top     Ingeniería, Diseño y Ciencias Aplicadas  \n",
              "freq                                       5342  \n",
              "mean                                        NaN  \n",
              "std                                         NaN  \n",
              "min                                         NaN  \n",
              "25%                                         NaN  \n",
              "50%                                         NaN  \n",
              "75%                                         NaN  \n",
              "max                                         NaN  \n",
              "\n",
              "[11 rows x 78 columns]"
            ],
            "text/html": [
              "\n",
              "  <div id=\"df-d943e434-76e5-4830-9312-0a6751f70e81\" class=\"colab-df-container\">\n",
              "    <div>\n",
              "<style scoped>\n",
              "    .dataframe tbody tr th:only-of-type {\n",
              "        vertical-align: middle;\n",
              "    }\n",
              "\n",
              "    .dataframe tbody tr th {\n",
              "        vertical-align: top;\n",
              "    }\n",
              "\n",
              "    .dataframe thead th {\n",
              "        text-align: right;\n",
              "    }\n",
              "</style>\n",
              "<table border=\"1\" class=\"dataframe\">\n",
              "  <thead>\n",
              "    <tr style=\"text-align: right;\">\n",
              "      <th></th>\n",
              "      <th>Periodo Admisión</th>\n",
              "      <th>Fecha Inscripción</th>\n",
              "      <th>Fecha solicitud completada</th>\n",
              "      <th>Programa</th>\n",
              "      <th>Tipo ID</th>\n",
              "      <th>Fecha Nacimiento</th>\n",
              "      <th>Puntaje Icfes</th>\n",
              "      <th>Fecha Icfes</th>\n",
              "      <th>Puesto Icfes</th>\n",
              "      <th>Código Colegio</th>\n",
              "      <th>...</th>\n",
              "      <th>Valor matricula</th>\n",
              "      <th>Valor procultura</th>\n",
              "      <th>Créditos U (PCR)</th>\n",
              "      <th>Fecha pago matricula</th>\n",
              "      <th>Valor matricula.1</th>\n",
              "      <th>Saldo Pre</th>\n",
              "      <th>source_file</th>\n",
              "      <th>Unnamed: 78</th>\n",
              "      <th>CodigoCarrera</th>\n",
              "      <th>facultad</th>\n",
              "    </tr>\n",
              "  </thead>\n",
              "  <tbody>\n",
              "    <tr>\n",
              "      <th>count</th>\n",
              "      <td>14301.000000</td>\n",
              "      <td>14358</td>\n",
              "      <td>10655</td>\n",
              "      <td>14358</td>\n",
              "      <td>14327</td>\n",
              "      <td>14358</td>\n",
              "      <td>14358.000000</td>\n",
              "      <td>14358</td>\n",
              "      <td>144</td>\n",
              "      <td>14292</td>\n",
              "      <td>...</td>\n",
              "      <td>1.418200e+04</td>\n",
              "      <td>1.418200e+04</td>\n",
              "      <td>1.421500e+04</td>\n",
              "      <td>9305</td>\n",
              "      <td>1.435800e+04</td>\n",
              "      <td>1.435800e+04</td>\n",
              "      <td>14358</td>\n",
              "      <td>3391.000000</td>\n",
              "      <td>14358</td>\n",
              "      <td>14358</td>\n",
              "    </tr>\n",
              "    <tr>\n",
              "      <th>unique</th>\n",
              "      <td>NaN</td>\n",
              "      <td>4207</td>\n",
              "      <td>1723</td>\n",
              "      <td>35</td>\n",
              "      <td>9</td>\n",
              "      <td>3782</td>\n",
              "      <td>NaN</td>\n",
              "      <td>464</td>\n",
              "      <td>88</td>\n",
              "      <td>1757</td>\n",
              "      <td>...</td>\n",
              "      <td>NaN</td>\n",
              "      <td>NaN</td>\n",
              "      <td>NaN</td>\n",
              "      <td>1423</td>\n",
              "      <td>NaN</td>\n",
              "      <td>NaN</td>\n",
              "      <td>16</td>\n",
              "      <td>NaN</td>\n",
              "      <td>35</td>\n",
              "      <td>4</td>\n",
              "    </tr>\n",
              "    <tr>\n",
              "      <th>top</th>\n",
              "      <td>NaN</td>\n",
              "      <td>5/05/2018</td>\n",
              "      <td>13/12/2021</td>\n",
              "      <td>MED</td>\n",
              "      <td>CC</td>\n",
              "      <td>5/04/2004</td>\n",
              "      <td>NaN</td>\n",
              "      <td>25/03/2021</td>\n",
              "      <td>99.0</td>\n",
              "      <td>C00001</td>\n",
              "      <td>...</td>\n",
              "      <td>NaN</td>\n",
              "      <td>NaN</td>\n",
              "      <td>NaN</td>\n",
              "      <td>16/01/2018</td>\n",
              "      <td>NaN</td>\n",
              "      <td>NaN</td>\n",
              "      <td>202520 - 25-08-2025.csv</td>\n",
              "      <td>NaN</td>\n",
              "      <td>MED</td>\n",
              "      <td>Ingeniería, Diseño y Ciencias Aplicadas</td>\n",
              "    </tr>\n",
              "    <tr>\n",
              "      <th>freq</th>\n",
              "      <td>NaN</td>\n",
              "      <td>81</td>\n",
              "      <td>60</td>\n",
              "      <td>2130</td>\n",
              "      <td>7880</td>\n",
              "      <td>19</td>\n",
              "      <td>NaN</td>\n",
              "      <td>818</td>\n",
              "      <td>9</td>\n",
              "      <td>342</td>\n",
              "      <td>...</td>\n",
              "      <td>NaN</td>\n",
              "      <td>NaN</td>\n",
              "      <td>NaN</td>\n",
              "      <td>241</td>\n",
              "      <td>NaN</td>\n",
              "      <td>NaN</td>\n",
              "      <td>1249</td>\n",
              "      <td>NaN</td>\n",
              "      <td>2130</td>\n",
              "      <td>5342</td>\n",
              "    </tr>\n",
              "    <tr>\n",
              "      <th>mean</th>\n",
              "      <td>202199.766730</td>\n",
              "      <td>NaN</td>\n",
              "      <td>NaN</td>\n",
              "      <td>NaN</td>\n",
              "      <td>NaN</td>\n",
              "      <td>NaN</td>\n",
              "      <td>338.117844</td>\n",
              "      <td>NaN</td>\n",
              "      <td>NaN</td>\n",
              "      <td>NaN</td>\n",
              "      <td>...</td>\n",
              "      <td>7.714894e+06</td>\n",
              "      <td>1.179281e+05</td>\n",
              "      <td>4.739187e+05</td>\n",
              "      <td>NaN</td>\n",
              "      <td>7.736525e+06</td>\n",
              "      <td>1.448356e+04</td>\n",
              "      <td>NaN</td>\n",
              "      <td>49147.480094</td>\n",
              "      <td>NaN</td>\n",
              "      <td>NaN</td>\n",
              "    </tr>\n",
              "    <tr>\n",
              "      <th>std</th>\n",
              "      <td>238.701524</td>\n",
              "      <td>NaN</td>\n",
              "      <td>NaN</td>\n",
              "      <td>NaN</td>\n",
              "      <td>NaN</td>\n",
              "      <td>NaN</td>\n",
              "      <td>38.190384</td>\n",
              "      <td>NaN</td>\n",
              "      <td>NaN</td>\n",
              "      <td>NaN</td>\n",
              "      <td>...</td>\n",
              "      <td>6.576629e+06</td>\n",
              "      <td>1.062911e+05</td>\n",
              "      <td>2.020816e+06</td>\n",
              "      <td>NaN</td>\n",
              "      <td>6.692978e+06</td>\n",
              "      <td>5.067614e+05</td>\n",
              "      <td>NaN</td>\n",
              "      <td>37510.509628</td>\n",
              "      <td>NaN</td>\n",
              "      <td>NaN</td>\n",
              "    </tr>\n",
              "    <tr>\n",
              "      <th>min</th>\n",
              "      <td>201420.000000</td>\n",
              "      <td>NaN</td>\n",
              "      <td>NaN</td>\n",
              "      <td>NaN</td>\n",
              "      <td>NaN</td>\n",
              "      <td>NaN</td>\n",
              "      <td>198.000000</td>\n",
              "      <td>NaN</td>\n",
              "      <td>NaN</td>\n",
              "      <td>NaN</td>\n",
              "      <td>...</td>\n",
              "      <td>0.000000e+00</td>\n",
              "      <td>0.000000e+00</td>\n",
              "      <td>0.000000e+00</td>\n",
              "      <td>NaN</td>\n",
              "      <td>0.000000e+00</td>\n",
              "      <td>-1.052555e+07</td>\n",
              "      <td>NaN</td>\n",
              "      <td>1991.000000</td>\n",
              "      <td>NaN</td>\n",
              "      <td>NaN</td>\n",
              "    </tr>\n",
              "    <tr>\n",
              "      <th>25%</th>\n",
              "      <td>202010.000000</td>\n",
              "      <td>NaN</td>\n",
              "      <td>NaN</td>\n",
              "      <td>NaN</td>\n",
              "      <td>NaN</td>\n",
              "      <td>NaN</td>\n",
              "      <td>313.000000</td>\n",
              "      <td>NaN</td>\n",
              "      <td>NaN</td>\n",
              "      <td>NaN</td>\n",
              "      <td>...</td>\n",
              "      <td>0.000000e+00</td>\n",
              "      <td>0.000000e+00</td>\n",
              "      <td>0.000000e+00</td>\n",
              "      <td>NaN</td>\n",
              "      <td>0.000000e+00</td>\n",
              "      <td>0.000000e+00</td>\n",
              "      <td>NaN</td>\n",
              "      <td>9451.000000</td>\n",
              "      <td>NaN</td>\n",
              "      <td>NaN</td>\n",
              "    </tr>\n",
              "    <tr>\n",
              "      <th>50%</th>\n",
              "      <td>202220.000000</td>\n",
              "      <td>NaN</td>\n",
              "      <td>NaN</td>\n",
              "      <td>NaN</td>\n",
              "      <td>NaN</td>\n",
              "      <td>NaN</td>\n",
              "      <td>340.000000</td>\n",
              "      <td>NaN</td>\n",
              "      <td>NaN</td>\n",
              "      <td>NaN</td>\n",
              "      <td>...</td>\n",
              "      <td>9.130000e+06</td>\n",
              "      <td>1.369500e+05</td>\n",
              "      <td>0.000000e+00</td>\n",
              "      <td>NaN</td>\n",
              "      <td>9.241575e+06</td>\n",
              "      <td>0.000000e+00</td>\n",
              "      <td>NaN</td>\n",
              "      <td>53512.000000</td>\n",
              "      <td>NaN</td>\n",
              "      <td>NaN</td>\n",
              "    </tr>\n",
              "    <tr>\n",
              "      <th>75%</th>\n",
              "      <td>202410.000000</td>\n",
              "      <td>NaN</td>\n",
              "      <td>NaN</td>\n",
              "      <td>NaN</td>\n",
              "      <td>NaN</td>\n",
              "      <td>NaN</td>\n",
              "      <td>364.000000</td>\n",
              "      <td>NaN</td>\n",
              "      <td>NaN</td>\n",
              "      <td>NaN</td>\n",
              "      <td>...</td>\n",
              "      <td>1.157000e+07</td>\n",
              "      <td>1.735500e+05</td>\n",
              "      <td>0.000000e+00</td>\n",
              "      <td>NaN</td>\n",
              "      <td>1.174355e+07</td>\n",
              "      <td>0.000000e+00</td>\n",
              "      <td>NaN</td>\n",
              "      <td>54533.000000</td>\n",
              "      <td>NaN</td>\n",
              "      <td>NaN</td>\n",
              "    </tr>\n",
              "    <tr>\n",
              "      <th>max</th>\n",
              "      <td>202610.000000</td>\n",
              "      <td>NaN</td>\n",
              "      <td>NaN</td>\n",
              "      <td>NaN</td>\n",
              "      <td>NaN</td>\n",
              "      <td>NaN</td>\n",
              "      <td>500.000000</td>\n",
              "      <td>NaN</td>\n",
              "      <td>NaN</td>\n",
              "      <td>NaN</td>\n",
              "      <td>...</td>\n",
              "      <td>2.541000e+07</td>\n",
              "      <td>1.148438e+06</td>\n",
              "      <td>2.541000e+07</td>\n",
              "      <td>NaN</td>\n",
              "      <td>2.655844e+07</td>\n",
              "      <td>2.579115e+07</td>\n",
              "      <td>NaN</td>\n",
              "      <td>117734.000000</td>\n",
              "      <td>NaN</td>\n",
              "      <td>NaN</td>\n",
              "    </tr>\n",
              "  </tbody>\n",
              "</table>\n",
              "<p>11 rows × 78 columns</p>\n",
              "</div>\n",
              "    <div class=\"colab-df-buttons\">\n",
              "\n",
              "  <div class=\"colab-df-container\">\n",
              "    <button class=\"colab-df-convert\" onclick=\"convertToInteractive('df-d943e434-76e5-4830-9312-0a6751f70e81')\"\n",
              "            title=\"Convert this dataframe to an interactive table.\"\n",
              "            style=\"display:none;\">\n",
              "\n",
              "  <svg xmlns=\"http://www.w3.org/2000/svg\" height=\"24px\" viewBox=\"0 -960 960 960\">\n",
              "    <path d=\"M120-120v-720h720v720H120Zm60-500h600v-160H180v160Zm220 220h160v-160H400v160Zm0 220h160v-160H400v160ZM180-400h160v-160H180v160Zm440 0h160v-160H620v160ZM180-180h160v-160H180v160Zm440 0h160v-160H620v160Z\"/>\n",
              "  </svg>\n",
              "    </button>\n",
              "\n",
              "  <style>\n",
              "    .colab-df-container {\n",
              "      display:flex;\n",
              "      gap: 12px;\n",
              "    }\n",
              "\n",
              "    .colab-df-convert {\n",
              "      background-color: #E8F0FE;\n",
              "      border: none;\n",
              "      border-radius: 50%;\n",
              "      cursor: pointer;\n",
              "      display: none;\n",
              "      fill: #1967D2;\n",
              "      height: 32px;\n",
              "      padding: 0 0 0 0;\n",
              "      width: 32px;\n",
              "    }\n",
              "\n",
              "    .colab-df-convert:hover {\n",
              "      background-color: #E2EBFA;\n",
              "      box-shadow: 0px 1px 2px rgba(60, 64, 67, 0.3), 0px 1px 3px 1px rgba(60, 64, 67, 0.15);\n",
              "      fill: #174EA6;\n",
              "    }\n",
              "\n",
              "    .colab-df-buttons div {\n",
              "      margin-bottom: 4px;\n",
              "    }\n",
              "\n",
              "    [theme=dark] .colab-df-convert {\n",
              "      background-color: #3B4455;\n",
              "      fill: #D2E3FC;\n",
              "    }\n",
              "\n",
              "    [theme=dark] .colab-df-convert:hover {\n",
              "      background-color: #434B5C;\n",
              "      box-shadow: 0px 1px 3px 1px rgba(0, 0, 0, 0.15);\n",
              "      filter: drop-shadow(0px 1px 2px rgba(0, 0, 0, 0.3));\n",
              "      fill: #FFFFFF;\n",
              "    }\n",
              "  </style>\n",
              "\n",
              "    <script>\n",
              "      const buttonEl =\n",
              "        document.querySelector('#df-d943e434-76e5-4830-9312-0a6751f70e81 button.colab-df-convert');\n",
              "      buttonEl.style.display =\n",
              "        google.colab.kernel.accessAllowed ? 'block' : 'none';\n",
              "\n",
              "      async function convertToInteractive(key) {\n",
              "        const element = document.querySelector('#df-d943e434-76e5-4830-9312-0a6751f70e81');\n",
              "        const dataTable =\n",
              "          await google.colab.kernel.invokeFunction('convertToInteractive',\n",
              "                                                    [key], {});\n",
              "        if (!dataTable) return;\n",
              "\n",
              "        const docLinkHtml = 'Like what you see? Visit the ' +\n",
              "          '<a target=\"_blank\" href=https://colab.research.google.com/notebooks/data_table.ipynb>data table notebook</a>'\n",
              "          + ' to learn more about interactive tables.';\n",
              "        element.innerHTML = '';\n",
              "        dataTable['output_type'] = 'display_data';\n",
              "        await google.colab.output.renderOutput(dataTable, element);\n",
              "        const docLink = document.createElement('div');\n",
              "        docLink.innerHTML = docLinkHtml;\n",
              "        element.appendChild(docLink);\n",
              "      }\n",
              "    </script>\n",
              "  </div>\n",
              "\n",
              "\n",
              "    <div id=\"df-da9108a1-ddf5-4664-944a-eadd5c55f65b\">\n",
              "      <button class=\"colab-df-quickchart\" onclick=\"quickchart('df-da9108a1-ddf5-4664-944a-eadd5c55f65b')\"\n",
              "                title=\"Suggest charts\"\n",
              "                style=\"display:none;\">\n",
              "\n",
              "<svg xmlns=\"http://www.w3.org/2000/svg\" height=\"24px\"viewBox=\"0 0 24 24\"\n",
              "     width=\"24px\">\n",
              "    <g>\n",
              "        <path d=\"M19 3H5c-1.1 0-2 .9-2 2v14c0 1.1.9 2 2 2h14c1.1 0 2-.9 2-2V5c0-1.1-.9-2-2-2zM9 17H7v-7h2v7zm4 0h-2V7h2v10zm4 0h-2v-4h2v4z\"/>\n",
              "    </g>\n",
              "</svg>\n",
              "      </button>\n",
              "\n",
              "<style>\n",
              "  .colab-df-quickchart {\n",
              "      --bg-color: #E8F0FE;\n",
              "      --fill-color: #1967D2;\n",
              "      --hover-bg-color: #E2EBFA;\n",
              "      --hover-fill-color: #174EA6;\n",
              "      --disabled-fill-color: #AAA;\n",
              "      --disabled-bg-color: #DDD;\n",
              "  }\n",
              "\n",
              "  [theme=dark] .colab-df-quickchart {\n",
              "      --bg-color: #3B4455;\n",
              "      --fill-color: #D2E3FC;\n",
              "      --hover-bg-color: #434B5C;\n",
              "      --hover-fill-color: #FFFFFF;\n",
              "      --disabled-bg-color: #3B4455;\n",
              "      --disabled-fill-color: #666;\n",
              "  }\n",
              "\n",
              "  .colab-df-quickchart {\n",
              "    background-color: var(--bg-color);\n",
              "    border: none;\n",
              "    border-radius: 50%;\n",
              "    cursor: pointer;\n",
              "    display: none;\n",
              "    fill: var(--fill-color);\n",
              "    height: 32px;\n",
              "    padding: 0;\n",
              "    width: 32px;\n",
              "  }\n",
              "\n",
              "  .colab-df-quickchart:hover {\n",
              "    background-color: var(--hover-bg-color);\n",
              "    box-shadow: 0 1px 2px rgba(60, 64, 67, 0.3), 0 1px 3px 1px rgba(60, 64, 67, 0.15);\n",
              "    fill: var(--button-hover-fill-color);\n",
              "  }\n",
              "\n",
              "  .colab-df-quickchart-complete:disabled,\n",
              "  .colab-df-quickchart-complete:disabled:hover {\n",
              "    background-color: var(--disabled-bg-color);\n",
              "    fill: var(--disabled-fill-color);\n",
              "    box-shadow: none;\n",
              "  }\n",
              "\n",
              "  .colab-df-spinner {\n",
              "    border: 2px solid var(--fill-color);\n",
              "    border-color: transparent;\n",
              "    border-bottom-color: var(--fill-color);\n",
              "    animation:\n",
              "      spin 1s steps(1) infinite;\n",
              "  }\n",
              "\n",
              "  @keyframes spin {\n",
              "    0% {\n",
              "      border-color: transparent;\n",
              "      border-bottom-color: var(--fill-color);\n",
              "      border-left-color: var(--fill-color);\n",
              "    }\n",
              "    20% {\n",
              "      border-color: transparent;\n",
              "      border-left-color: var(--fill-color);\n",
              "      border-top-color: var(--fill-color);\n",
              "    }\n",
              "    30% {\n",
              "      border-color: transparent;\n",
              "      border-left-color: var(--fill-color);\n",
              "      border-top-color: var(--fill-color);\n",
              "      border-right-color: var(--fill-color);\n",
              "    }\n",
              "    40% {\n",
              "      border-color: transparent;\n",
              "      border-right-color: var(--fill-color);\n",
              "      border-top-color: var(--fill-color);\n",
              "    }\n",
              "    60% {\n",
              "      border-color: transparent;\n",
              "      border-right-color: var(--fill-color);\n",
              "    }\n",
              "    80% {\n",
              "      border-color: transparent;\n",
              "      border-right-color: var(--fill-color);\n",
              "      border-bottom-color: var(--fill-color);\n",
              "    }\n",
              "    90% {\n",
              "      border-color: transparent;\n",
              "      border-bottom-color: var(--fill-color);\n",
              "    }\n",
              "  }\n",
              "</style>\n",
              "\n",
              "      <script>\n",
              "        async function quickchart(key) {\n",
              "          const quickchartButtonEl =\n",
              "            document.querySelector('#' + key + ' button');\n",
              "          quickchartButtonEl.disabled = true;  // To prevent multiple clicks.\n",
              "          quickchartButtonEl.classList.add('colab-df-spinner');\n",
              "          try {\n",
              "            const charts = await google.colab.kernel.invokeFunction(\n",
              "                'suggestCharts', [key], {});\n",
              "          } catch (error) {\n",
              "            console.error('Error during call to suggestCharts:', error);\n",
              "          }\n",
              "          quickchartButtonEl.classList.remove('colab-df-spinner');\n",
              "          quickchartButtonEl.classList.add('colab-df-quickchart-complete');\n",
              "        }\n",
              "        (() => {\n",
              "          let quickchartButtonEl =\n",
              "            document.querySelector('#df-da9108a1-ddf5-4664-944a-eadd5c55f65b button');\n",
              "          quickchartButtonEl.style.display =\n",
              "            google.colab.kernel.accessAllowed ? 'block' : 'none';\n",
              "        })();\n",
              "      </script>\n",
              "    </div>\n",
              "\n",
              "    </div>\n",
              "  </div>\n"
            ],
            "application/vnd.google.colaboratory.intrinsic+json": {
              "type": "dataframe"
            }
          },
          "metadata": {}
        }
      ]
    },
    {
      "cell_type": "markdown",
      "source": [],
      "metadata": {
        "id": "K7AJ519j1ka1"
      }
    },
    {
      "cell_type": "code",
      "source": [
        "# Conteo por facultad\n",
        "df[\"facultad\"].value_counts().to_frame(\"frecuencia\")\n",
        "\n",
        "# ICFES por facultad\n",
        "col_icfes = next((c for c in [\"Puntaje Icfes\",\"ICFES\",\"puntaje_icfes\"] if c in df.columns), None)\n",
        "if col_icfes:\n",
        "    display(df.groupby(\"facultad\")[col_icfes].describe())\n",
        "\n",
        "# Tabla cruzada\n",
        "import pandas as pd\n",
        "if \"TipoColegio\" in df.columns:\n",
        "    display(pd.crosstab(df[\"facultad\"], df[\"TipoColegio\"], margins=True))\n"
      ],
      "metadata": {
        "colab": {
          "base_uri": "https://localhost:8080/",
          "height": 206
        },
        "id": "WId4jO6h1kyL",
        "outputId": "b6dc8b0f-3feb-4f37-c99b-1189f001b7b8"
      },
      "execution_count": null,
      "outputs": [
        {
          "output_type": "display_data",
          "data": {
            "text/plain": [
              "                                          count        mean        std    min  \\\n",
              "facultad                                                                        \n",
              "Ciencias Humanas                         3489.0  327.464603  37.065015  201.0   \n",
              "Ciencias de la Salud                     2183.0  366.967934  30.808891  221.0   \n",
              "Ingeniería, Diseño y Ciencias Aplicadas  5342.0  340.030700  36.065650  198.0   \n",
              "Negocios y Economía                      3344.0  327.343600  36.725393  219.0   \n",
              "\n",
              "                                           25%    50%    75%    max  \n",
              "facultad                                                             \n",
              "Ciencias Humanas                         304.0  328.0  353.0  500.0  \n",
              "Ciencias de la Salud                     351.0  368.0  384.0  500.0  \n",
              "Ingeniería, Diseño y Ciencias Aplicadas  317.0  342.0  363.0  500.0  \n",
              "Negocios y Economía                      303.0  328.0  353.0  500.0  "
            ],
            "text/html": [
              "\n",
              "  <div id=\"df-637ad863-f030-44d4-9de8-ecb805f5b6d1\" class=\"colab-df-container\">\n",
              "    <div>\n",
              "<style scoped>\n",
              "    .dataframe tbody tr th:only-of-type {\n",
              "        vertical-align: middle;\n",
              "    }\n",
              "\n",
              "    .dataframe tbody tr th {\n",
              "        vertical-align: top;\n",
              "    }\n",
              "\n",
              "    .dataframe thead th {\n",
              "        text-align: right;\n",
              "    }\n",
              "</style>\n",
              "<table border=\"1\" class=\"dataframe\">\n",
              "  <thead>\n",
              "    <tr style=\"text-align: right;\">\n",
              "      <th></th>\n",
              "      <th>count</th>\n",
              "      <th>mean</th>\n",
              "      <th>std</th>\n",
              "      <th>min</th>\n",
              "      <th>25%</th>\n",
              "      <th>50%</th>\n",
              "      <th>75%</th>\n",
              "      <th>max</th>\n",
              "    </tr>\n",
              "    <tr>\n",
              "      <th>facultad</th>\n",
              "      <th></th>\n",
              "      <th></th>\n",
              "      <th></th>\n",
              "      <th></th>\n",
              "      <th></th>\n",
              "      <th></th>\n",
              "      <th></th>\n",
              "      <th></th>\n",
              "    </tr>\n",
              "  </thead>\n",
              "  <tbody>\n",
              "    <tr>\n",
              "      <th>Ciencias Humanas</th>\n",
              "      <td>3489.0</td>\n",
              "      <td>327.464603</td>\n",
              "      <td>37.065015</td>\n",
              "      <td>201.0</td>\n",
              "      <td>304.0</td>\n",
              "      <td>328.0</td>\n",
              "      <td>353.0</td>\n",
              "      <td>500.0</td>\n",
              "    </tr>\n",
              "    <tr>\n",
              "      <th>Ciencias de la Salud</th>\n",
              "      <td>2183.0</td>\n",
              "      <td>366.967934</td>\n",
              "      <td>30.808891</td>\n",
              "      <td>221.0</td>\n",
              "      <td>351.0</td>\n",
              "      <td>368.0</td>\n",
              "      <td>384.0</td>\n",
              "      <td>500.0</td>\n",
              "    </tr>\n",
              "    <tr>\n",
              "      <th>Ingeniería, Diseño y Ciencias Aplicadas</th>\n",
              "      <td>5342.0</td>\n",
              "      <td>340.030700</td>\n",
              "      <td>36.065650</td>\n",
              "      <td>198.0</td>\n",
              "      <td>317.0</td>\n",
              "      <td>342.0</td>\n",
              "      <td>363.0</td>\n",
              "      <td>500.0</td>\n",
              "    </tr>\n",
              "    <tr>\n",
              "      <th>Negocios y Economía</th>\n",
              "      <td>3344.0</td>\n",
              "      <td>327.343600</td>\n",
              "      <td>36.725393</td>\n",
              "      <td>219.0</td>\n",
              "      <td>303.0</td>\n",
              "      <td>328.0</td>\n",
              "      <td>353.0</td>\n",
              "      <td>500.0</td>\n",
              "    </tr>\n",
              "  </tbody>\n",
              "</table>\n",
              "</div>\n",
              "    <div class=\"colab-df-buttons\">\n",
              "\n",
              "  <div class=\"colab-df-container\">\n",
              "    <button class=\"colab-df-convert\" onclick=\"convertToInteractive('df-637ad863-f030-44d4-9de8-ecb805f5b6d1')\"\n",
              "            title=\"Convert this dataframe to an interactive table.\"\n",
              "            style=\"display:none;\">\n",
              "\n",
              "  <svg xmlns=\"http://www.w3.org/2000/svg\" height=\"24px\" viewBox=\"0 -960 960 960\">\n",
              "    <path d=\"M120-120v-720h720v720H120Zm60-500h600v-160H180v160Zm220 220h160v-160H400v160Zm0 220h160v-160H400v160ZM180-400h160v-160H180v160Zm440 0h160v-160H620v160ZM180-180h160v-160H180v160Zm440 0h160v-160H620v160Z\"/>\n",
              "  </svg>\n",
              "    </button>\n",
              "\n",
              "  <style>\n",
              "    .colab-df-container {\n",
              "      display:flex;\n",
              "      gap: 12px;\n",
              "    }\n",
              "\n",
              "    .colab-df-convert {\n",
              "      background-color: #E8F0FE;\n",
              "      border: none;\n",
              "      border-radius: 50%;\n",
              "      cursor: pointer;\n",
              "      display: none;\n",
              "      fill: #1967D2;\n",
              "      height: 32px;\n",
              "      padding: 0 0 0 0;\n",
              "      width: 32px;\n",
              "    }\n",
              "\n",
              "    .colab-df-convert:hover {\n",
              "      background-color: #E2EBFA;\n",
              "      box-shadow: 0px 1px 2px rgba(60, 64, 67, 0.3), 0px 1px 3px 1px rgba(60, 64, 67, 0.15);\n",
              "      fill: #174EA6;\n",
              "    }\n",
              "\n",
              "    .colab-df-buttons div {\n",
              "      margin-bottom: 4px;\n",
              "    }\n",
              "\n",
              "    [theme=dark] .colab-df-convert {\n",
              "      background-color: #3B4455;\n",
              "      fill: #D2E3FC;\n",
              "    }\n",
              "\n",
              "    [theme=dark] .colab-df-convert:hover {\n",
              "      background-color: #434B5C;\n",
              "      box-shadow: 0px 1px 3px 1px rgba(0, 0, 0, 0.15);\n",
              "      filter: drop-shadow(0px 1px 2px rgba(0, 0, 0, 0.3));\n",
              "      fill: #FFFFFF;\n",
              "    }\n",
              "  </style>\n",
              "\n",
              "    <script>\n",
              "      const buttonEl =\n",
              "        document.querySelector('#df-637ad863-f030-44d4-9de8-ecb805f5b6d1 button.colab-df-convert');\n",
              "      buttonEl.style.display =\n",
              "        google.colab.kernel.accessAllowed ? 'block' : 'none';\n",
              "\n",
              "      async function convertToInteractive(key) {\n",
              "        const element = document.querySelector('#df-637ad863-f030-44d4-9de8-ecb805f5b6d1');\n",
              "        const dataTable =\n",
              "          await google.colab.kernel.invokeFunction('convertToInteractive',\n",
              "                                                    [key], {});\n",
              "        if (!dataTable) return;\n",
              "\n",
              "        const docLinkHtml = 'Like what you see? Visit the ' +\n",
              "          '<a target=\"_blank\" href=https://colab.research.google.com/notebooks/data_table.ipynb>data table notebook</a>'\n",
              "          + ' to learn more about interactive tables.';\n",
              "        element.innerHTML = '';\n",
              "        dataTable['output_type'] = 'display_data';\n",
              "        await google.colab.output.renderOutput(dataTable, element);\n",
              "        const docLink = document.createElement('div');\n",
              "        docLink.innerHTML = docLinkHtml;\n",
              "        element.appendChild(docLink);\n",
              "      }\n",
              "    </script>\n",
              "  </div>\n",
              "\n",
              "\n",
              "    <div id=\"df-9716c70f-6c0b-4642-afd2-00335c84b061\">\n",
              "      <button class=\"colab-df-quickchart\" onclick=\"quickchart('df-9716c70f-6c0b-4642-afd2-00335c84b061')\"\n",
              "                title=\"Suggest charts\"\n",
              "                style=\"display:none;\">\n",
              "\n",
              "<svg xmlns=\"http://www.w3.org/2000/svg\" height=\"24px\"viewBox=\"0 0 24 24\"\n",
              "     width=\"24px\">\n",
              "    <g>\n",
              "        <path d=\"M19 3H5c-1.1 0-2 .9-2 2v14c0 1.1.9 2 2 2h14c1.1 0 2-.9 2-2V5c0-1.1-.9-2-2-2zM9 17H7v-7h2v7zm4 0h-2V7h2v10zm4 0h-2v-4h2v4z\"/>\n",
              "    </g>\n",
              "</svg>\n",
              "      </button>\n",
              "\n",
              "<style>\n",
              "  .colab-df-quickchart {\n",
              "      --bg-color: #E8F0FE;\n",
              "      --fill-color: #1967D2;\n",
              "      --hover-bg-color: #E2EBFA;\n",
              "      --hover-fill-color: #174EA6;\n",
              "      --disabled-fill-color: #AAA;\n",
              "      --disabled-bg-color: #DDD;\n",
              "  }\n",
              "\n",
              "  [theme=dark] .colab-df-quickchart {\n",
              "      --bg-color: #3B4455;\n",
              "      --fill-color: #D2E3FC;\n",
              "      --hover-bg-color: #434B5C;\n",
              "      --hover-fill-color: #FFFFFF;\n",
              "      --disabled-bg-color: #3B4455;\n",
              "      --disabled-fill-color: #666;\n",
              "  }\n",
              "\n",
              "  .colab-df-quickchart {\n",
              "    background-color: var(--bg-color);\n",
              "    border: none;\n",
              "    border-radius: 50%;\n",
              "    cursor: pointer;\n",
              "    display: none;\n",
              "    fill: var(--fill-color);\n",
              "    height: 32px;\n",
              "    padding: 0;\n",
              "    width: 32px;\n",
              "  }\n",
              "\n",
              "  .colab-df-quickchart:hover {\n",
              "    background-color: var(--hover-bg-color);\n",
              "    box-shadow: 0 1px 2px rgba(60, 64, 67, 0.3), 0 1px 3px 1px rgba(60, 64, 67, 0.15);\n",
              "    fill: var(--button-hover-fill-color);\n",
              "  }\n",
              "\n",
              "  .colab-df-quickchart-complete:disabled,\n",
              "  .colab-df-quickchart-complete:disabled:hover {\n",
              "    background-color: var(--disabled-bg-color);\n",
              "    fill: var(--disabled-fill-color);\n",
              "    box-shadow: none;\n",
              "  }\n",
              "\n",
              "  .colab-df-spinner {\n",
              "    border: 2px solid var(--fill-color);\n",
              "    border-color: transparent;\n",
              "    border-bottom-color: var(--fill-color);\n",
              "    animation:\n",
              "      spin 1s steps(1) infinite;\n",
              "  }\n",
              "\n",
              "  @keyframes spin {\n",
              "    0% {\n",
              "      border-color: transparent;\n",
              "      border-bottom-color: var(--fill-color);\n",
              "      border-left-color: var(--fill-color);\n",
              "    }\n",
              "    20% {\n",
              "      border-color: transparent;\n",
              "      border-left-color: var(--fill-color);\n",
              "      border-top-color: var(--fill-color);\n",
              "    }\n",
              "    30% {\n",
              "      border-color: transparent;\n",
              "      border-left-color: var(--fill-color);\n",
              "      border-top-color: var(--fill-color);\n",
              "      border-right-color: var(--fill-color);\n",
              "    }\n",
              "    40% {\n",
              "      border-color: transparent;\n",
              "      border-right-color: var(--fill-color);\n",
              "      border-top-color: var(--fill-color);\n",
              "    }\n",
              "    60% {\n",
              "      border-color: transparent;\n",
              "      border-right-color: var(--fill-color);\n",
              "    }\n",
              "    80% {\n",
              "      border-color: transparent;\n",
              "      border-right-color: var(--fill-color);\n",
              "      border-bottom-color: var(--fill-color);\n",
              "    }\n",
              "    90% {\n",
              "      border-color: transparent;\n",
              "      border-bottom-color: var(--fill-color);\n",
              "    }\n",
              "  }\n",
              "</style>\n",
              "\n",
              "      <script>\n",
              "        async function quickchart(key) {\n",
              "          const quickchartButtonEl =\n",
              "            document.querySelector('#' + key + ' button');\n",
              "          quickchartButtonEl.disabled = true;  // To prevent multiple clicks.\n",
              "          quickchartButtonEl.classList.add('colab-df-spinner');\n",
              "          try {\n",
              "            const charts = await google.colab.kernel.invokeFunction(\n",
              "                'suggestCharts', [key], {});\n",
              "          } catch (error) {\n",
              "            console.error('Error during call to suggestCharts:', error);\n",
              "          }\n",
              "          quickchartButtonEl.classList.remove('colab-df-spinner');\n",
              "          quickchartButtonEl.classList.add('colab-df-quickchart-complete');\n",
              "        }\n",
              "        (() => {\n",
              "          let quickchartButtonEl =\n",
              "            document.querySelector('#df-9716c70f-6c0b-4642-afd2-00335c84b061 button');\n",
              "          quickchartButtonEl.style.display =\n",
              "            google.colab.kernel.accessAllowed ? 'block' : 'none';\n",
              "        })();\n",
              "      </script>\n",
              "    </div>\n",
              "\n",
              "    </div>\n",
              "  </div>\n"
            ],
            "application/vnd.google.colaboratory.intrinsic+json": {
              "type": "dataframe",
              "summary": "{\n  \"name\": \"    display(pd\",\n  \"rows\": 4,\n  \"fields\": [\n    {\n      \"column\": \"facultad\",\n      \"properties\": {\n        \"dtype\": \"string\",\n        \"num_unique_values\": 4,\n        \"samples\": [\n          \"Ciencias de la Salud\",\n          \"Negocios y Econom\\u00eda\",\n          \"Ciencias Humanas\"\n        ],\n        \"semantic_type\": \"\",\n        \"description\": \"\"\n      }\n    },\n    {\n      \"column\": \"count\",\n      \"properties\": {\n        \"dtype\": \"number\",\n        \"std\": 1306.3778167130672,\n        \"min\": 2183.0,\n        \"max\": 5342.0,\n        \"num_unique_values\": 4,\n        \"samples\": [\n          2183.0,\n          3344.0,\n          3489.0\n        ],\n        \"semantic_type\": \"\",\n        \"description\": \"\"\n      }\n    },\n    {\n      \"column\": \"mean\",\n      \"properties\": {\n        \"dtype\": \"number\",\n        \"std\": 18.65274661550193,\n        \"min\": 327.3436004784689,\n        \"max\": 366.96793403573065,\n        \"num_unique_values\": 4,\n        \"samples\": [\n          366.96793403573065,\n          327.3436004784689,\n          327.46460303811983\n        ],\n        \"semantic_type\": \"\",\n        \"description\": \"\"\n      }\n    },\n    {\n      \"column\": \"std\",\n      \"properties\": {\n        \"dtype\": \"number\",\n        \"std\": 2.934378372011763,\n        \"min\": 30.808891393577237,\n        \"max\": 37.065014934998395,\n        \"num_unique_values\": 4,\n        \"samples\": [\n          30.808891393577237,\n          36.72539275410864,\n          37.065014934998395\n        ],\n        \"semantic_type\": \"\",\n        \"description\": \"\"\n      }\n    },\n    {\n      \"column\": \"min\",\n      \"properties\": {\n        \"dtype\": \"number\",\n        \"std\": 11.926860441876563,\n        \"min\": 198.0,\n        \"max\": 221.0,\n        \"num_unique_values\": 4,\n        \"samples\": [\n          221.0,\n          219.0,\n          201.0\n        ],\n        \"semantic_type\": \"\",\n        \"description\": \"\"\n      }\n    },\n    {\n      \"column\": \"25%\",\n      \"properties\": {\n        \"dtype\": \"number\",\n        \"std\": 22.4258035902098,\n        \"min\": 303.0,\n        \"max\": 351.0,\n        \"num_unique_values\": 4,\n        \"samples\": [\n          351.0,\n          303.0,\n          304.0\n        ],\n        \"semantic_type\": \"\",\n        \"description\": \"\"\n      }\n    },\n    {\n      \"column\": \"50%\",\n      \"properties\": {\n        \"dtype\": \"number\",\n        \"std\": 18.859126879754182,\n        \"min\": 328.0,\n        \"max\": 368.0,\n        \"num_unique_values\": 3,\n        \"samples\": [\n          328.0,\n          368.0,\n          342.0\n        ],\n        \"semantic_type\": \"\",\n        \"description\": \"\"\n      }\n    },\n    {\n      \"column\": \"75%\",\n      \"properties\": {\n        \"dtype\": \"number\",\n        \"std\": 14.614490525958589,\n        \"min\": 353.0,\n        \"max\": 384.0,\n        \"num_unique_values\": 3,\n        \"samples\": [\n          353.0,\n          384.0,\n          363.0\n        ],\n        \"semantic_type\": \"\",\n        \"description\": \"\"\n      }\n    },\n    {\n      \"column\": \"max\",\n      \"properties\": {\n        \"dtype\": \"number\",\n        \"std\": 0.0,\n        \"min\": 500.0,\n        \"max\": 500.0,\n        \"num_unique_values\": 1,\n        \"samples\": [\n          500.0\n        ],\n        \"semantic_type\": \"\",\n        \"description\": \"\"\n      }\n    }\n  ]\n}"
            }
          },
          "metadata": {}
        }
      ]
    },
    {
      "cell_type": "markdown",
      "source": [
        "**Ciencias Humanas**\n",
        "\n",
        "Admitidos: 3,489\n",
        "\n",
        "Promedio Icfes: ~327\n",
        "\n",
        "Es la segunda facultad con más estudiantes. Sus puntajes están en un rango medio, con dispersión similar a las demás (~37).\n",
        "\n",
        "**Ciencias de la Salud**\n",
        "\n",
        "Admitidos: 2,183\n",
        "\n",
        "Promedio Icfes: ~367 (el más alto entre todas las facultades).\n",
        "\n",
        "Aunque tiene la menor cantidad de admitidos, sus puntajes reflejan mayor exigencia académica.\n",
        "\n",
        "**Ingeniería, Diseño y Ciencias Aplicadas**\n",
        "\n",
        "Admitidos: 5,342 (la facultad con más estudiantes).\n",
        "\n",
        "Promedio Icfes: ~340\n",
        "\n",
        "Es la más numerosa, con un puntaje medio ligeramente superior al de Humanas y Negocios, pero claramente por debajo de Salud.\n",
        "\n",
        "**Negocios y Economía**\n",
        "\n",
        "Admitidos: 3,344\n",
        "\n",
        "Promedio Icfes: ~327 (similar a Humanas, el más bajo junto con esta).\n",
        "\n",
        "Aunque su puntaje promedio es bajo, mantiene una gran participación en número de estudiantes."
      ],
      "metadata": {
        "id": "Jf-GojAW2byX"
      }
    },
    {
      "cell_type": "markdown",
      "source": [
        "vamos a revisar las otras variables, para hacer un analisis exploratorio."
      ],
      "metadata": {
        "id": "5ERZS3Ws1tf8"
      }
    },
    {
      "cell_type": "markdown",
      "source": [
        "Variables categóricas (distribución y cruces con facultad)\n",
        "\n",
        "Ejemplos típicos en este dataset (ajusta según tengas):\n",
        "\n",
        "Genero (M/F)\n",
        "\n",
        "TipoColegio (Privado / Público)\n",
        "\n",
        "Estrato (1–6)\n",
        "\n",
        "Ciudad / Departamento de residencia\n",
        "\n",
        "Calendario del colegio (A/B)\n",
        "\n",
        "**Para cada variable:**\n",
        "\n",
        "Distribución general.\n",
        "\n",
        "Tabla cruzada con facultad.\n",
        "\n",
        "Visualización (barras)."
      ],
      "metadata": {
        "id": "j8qfO-TnDc_Y"
      }
    },
    {
      "cell_type": "code",
      "source": [
        "# Copiamos el DF para no dañar el original\n",
        "df_norm = df.copy()\n",
        "\n",
        "# Paso 1: Convertir Estrato a numérico\n",
        "df_norm[\"Estrato_norm\"] = pd.to_numeric(df_norm[\"Estrato\"], errors=\"coerce\")\n",
        "\n",
        "# Paso 2: Corregir casos fuera de rango (solo válidos 1 a 6)\n",
        "df_norm.loc[~df_norm[\"Estrato_norm\"].between(1, 6), \"Estrato_norm\"] = np.nan\n",
        "\n",
        "# Paso 3: Revisar distribución\n",
        "print(\"Distribución normalizada de Estrato:\")\n",
        "display(df_norm[\"Estrato_norm\"].value_counts(dropna=False).sort_index())\n",
        "\n",
        "# Paso 4: Gráfico normalizado\n",
        "df_norm[\"Estrato_norm\"].value_counts(dropna=False).sort_index().plot(\n",
        "    kind=\"bar\", figsize=(6,3), title=\"Distribución de Estrato (normalizado)\"\n",
        ")\n",
        "plt.xticks(rotation=0)\n",
        "plt.show()\n"
      ],
      "metadata": {
        "id": "nUAbtzWhD8oj",
        "outputId": "46d4dfd4-ddbc-476a-f3f6-e456d78369af",
        "colab": {
          "base_uri": "https://localhost:8080/",
          "height": 668
        }
      },
      "execution_count": null,
      "outputs": [
        {
          "output_type": "stream",
          "name": "stdout",
          "text": [
            "Distribución normalizada de Estrato:\n"
          ]
        },
        {
          "output_type": "display_data",
          "data": {
            "text/plain": [
              "Estrato_norm\n",
              "1.0    2344\n",
              "2.0    4113\n",
              "3.0    2804\n",
              "4.0    1852\n",
              "5.0    2041\n",
              "6.0    1181\n",
              "NaN      23\n",
              "Name: count, dtype: int64"
            ],
            "text/html": [
              "<div>\n",
              "<style scoped>\n",
              "    .dataframe tbody tr th:only-of-type {\n",
              "        vertical-align: middle;\n",
              "    }\n",
              "\n",
              "    .dataframe tbody tr th {\n",
              "        vertical-align: top;\n",
              "    }\n",
              "\n",
              "    .dataframe thead th {\n",
              "        text-align: right;\n",
              "    }\n",
              "</style>\n",
              "<table border=\"1\" class=\"dataframe\">\n",
              "  <thead>\n",
              "    <tr style=\"text-align: right;\">\n",
              "      <th></th>\n",
              "      <th>count</th>\n",
              "    </tr>\n",
              "    <tr>\n",
              "      <th>Estrato_norm</th>\n",
              "      <th></th>\n",
              "    </tr>\n",
              "  </thead>\n",
              "  <tbody>\n",
              "    <tr>\n",
              "      <th>1.0</th>\n",
              "      <td>2344</td>\n",
              "    </tr>\n",
              "    <tr>\n",
              "      <th>2.0</th>\n",
              "      <td>4113</td>\n",
              "    </tr>\n",
              "    <tr>\n",
              "      <th>3.0</th>\n",
              "      <td>2804</td>\n",
              "    </tr>\n",
              "    <tr>\n",
              "      <th>4.0</th>\n",
              "      <td>1852</td>\n",
              "    </tr>\n",
              "    <tr>\n",
              "      <th>5.0</th>\n",
              "      <td>2041</td>\n",
              "    </tr>\n",
              "    <tr>\n",
              "      <th>6.0</th>\n",
              "      <td>1181</td>\n",
              "    </tr>\n",
              "    <tr>\n",
              "      <th>NaN</th>\n",
              "      <td>23</td>\n",
              "    </tr>\n",
              "  </tbody>\n",
              "</table>\n",
              "</div><br><label><b>dtype:</b> int64</label>"
            ]
          },
          "metadata": {}
        },
        {
          "output_type": "display_data",
          "data": {
            "text/plain": [
              "<Figure size 600x300 with 1 Axes>"
            ],
            "image/png": "[encoded data removed]"
          },
          "metadata": {}
        }
      ]
    },
    {
      "cell_type": "markdown",
      "source": [
        "Variables numéricas (además del ICFES)\n",
        "\n",
        "Revisa si tienes más columnas numéricas, por ejemplo:\n",
        "\n",
        "\n",
        "*   Edad del admitido\n",
        "*   Puntajes específicos (lectura, matemáticas, etc.)\n",
        "*   Año de admisión"
      ],
      "metadata": {
        "id": "_n1lA1wDEOoE"
      }
    },
    {
      "cell_type": "code",
      "source": [
        "# 1) Ajusta el nombre exacto si cambia\n",
        "col_periodo = \"Periodo Admisión\"\n",
        "\n",
        "# 2) Derivar año y semestre desde AAAASS\n",
        "df[\"Periodo_str\"] = df[col_periodo].astype(\"Int64\").astype(str)\n",
        "df[\"Anio\"]       = df[\"Periodo_str\"].str[:4]\n",
        "df[\"Semestre\"]   = df[\"Periodo_str\"].str[4:6]\n",
        "\n",
        "# 3) Barras: admitidos por año\n",
        "df[\"Anio\"].value_counts().sort_index().plot(kind=\"bar\", figsize=(8,3), title=\"Admitidos por Año\")\n",
        "plt.xticks(rotation=45); plt.tight_layout(); plt.show()\n",
        "\n",
        "# 4) Barras apiladas: año x facultad\n",
        "pd.crosstab(df[\"Anio\"], df[\"facultad\"]).plot(kind=\"bar\", stacked=True, figsize=(10,4))\n",
        "plt.title(\"Admitidos por Año y Facultad\"); plt.ylabel(\"Cantidad\")\n",
        "plt.xticks(rotation=45); plt.tight_layout(); plt.show()\n",
        "\n"
      ],
      "metadata": {
        "colab": {
          "base_uri": "https://localhost:8080/",
          "height": 697
        },
        "id": "muObh37B5CjE",
        "outputId": "8459a014-bf04-41ed-fe22-ed335945c922"
      },
      "execution_count": null,
      "outputs": [
        {
          "output_type": "display_data",
          "data": {
            "text/plain": [
              "<Figure size 800x300 with 1 Axes>"
            ],
            "image/png": "[encoded data removed]"
          },
          "metadata": {}
        },
        {
          "output_type": "display_data",
          "data": {
            "text/plain": [
              "<Figure size 1000x400 with 1 Axes>"
            ],
            "image/png": "[encoded data removed]"
          },
          "metadata": {}
        }
      ]
    }
  ]
}